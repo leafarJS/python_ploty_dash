{
 "cells": [
  {
   "cell_type": "code",
   "execution_count": 1,
   "metadata": {},
   "outputs": [],
   "source": [
    "#importar librerias\n",
    "import dash\n",
    "import dash_core_components as dcc\n",
    "import dash_html_components as html\n",
    "from dash.dependencies import Input, Output\n",
    "import plotly.graph_objs as go\n",
    "import pandas as pd\n",
    "import json"
   ]
  },
  {
   "cell_type": "code",
   "execution_count": 2,
   "metadata": {},
   "outputs": [],
   "source": [
    "df = pd.read_excel(r'./database/Temperaturas.xlsx')"
   ]
  },
  {
   "cell_type": "code",
   "execution_count": 3,
   "metadata": {},
   "outputs": [
    {
     "data": {
      "text/html": [
       "<div>\n",
       "<style scoped>\n",
       "    .dataframe tbody tr th:only-of-type {\n",
       "        vertical-align: middle;\n",
       "    }\n",
       "\n",
       "    .dataframe tbody tr th {\n",
       "        vertical-align: top;\n",
       "    }\n",
       "\n",
       "    .dataframe thead th {\n",
       "        text-align: right;\n",
       "    }\n",
       "</style>\n",
       "<table border=\"1\" class=\"dataframe\">\n",
       "  <thead>\n",
       "    <tr style=\"text-align: right;\">\n",
       "      <th></th>\n",
       "      <th>fecha</th>\n",
       "      <th>ciudad</th>\n",
       "      <th>temp_max</th>\n",
       "      <th>temp_min</th>\n",
       "      <th>temp_prom</th>\n",
       "    </tr>\n",
       "  </thead>\n",
       "  <tbody>\n",
       "    <tr>\n",
       "      <th>0</th>\n",
       "      <td>2019-06-01</td>\n",
       "      <td>Madrid</td>\n",
       "      <td>33.1</td>\n",
       "      <td>17.2</td>\n",
       "      <td>25.15</td>\n",
       "    </tr>\n",
       "    <tr>\n",
       "      <th>1</th>\n",
       "      <td>2019-06-02</td>\n",
       "      <td>Madrid</td>\n",
       "      <td>34.5</td>\n",
       "      <td>19.0</td>\n",
       "      <td>26.75</td>\n",
       "    </tr>\n",
       "    <tr>\n",
       "      <th>2</th>\n",
       "      <td>2019-06-03</td>\n",
       "      <td>Madrid</td>\n",
       "      <td>32.8</td>\n",
       "      <td>20.3</td>\n",
       "      <td>26.55</td>\n",
       "    </tr>\n",
       "  </tbody>\n",
       "</table>\n",
       "</div>"
      ],
      "text/plain": [
       "       fecha  ciudad  temp_max  temp_min  temp_prom\n",
       "0 2019-06-01  Madrid      33.1      17.2      25.15\n",
       "1 2019-06-02  Madrid      34.5      19.0      26.75\n",
       "2 2019-06-03  Madrid      32.8      20.3      26.55"
      ]
     },
     "execution_count": 3,
     "metadata": {},
     "output_type": "execute_result"
    }
   ],
   "source": [
    "df.head(3)"
   ]
  },
  {
   "cell_type": "code",
   "execution_count": 4,
   "metadata": {},
   "outputs": [],
   "source": [
    "#crear el objeto dash\n",
    "app = dash.Dash()"
   ]
  },
  {
   "cell_type": "code",
   "execution_count": 5,
   "metadata": {},
   "outputs": [],
   "source": [
    "#Creación trazas de datos para cada ciudad\n",
    "trazos = []\n",
    "for i in df['ciudad'].unique():\n",
    "  city = df[df['ciudad'] == i]\n",
    "  trazos.append(\n",
    "    go.Scatter(\n",
    "      x = city['fecha'],\n",
    "      y = city['temp_prom'],\n",
    "      text = city['ciudad'],\n",
    "      mode = 'markers+lines',\n",
    "      opacity = 0.7,\n",
    "      marker = {'size':8},\n",
    "      name=i\n",
    "    )\n",
    "  )"
   ]
  },
  {
   "cell_type": "code",
   "execution_count": 6,
   "metadata": {},
   "outputs": [],
   "source": [
    "app.layout = html.Div([\n",
    "  html.Div([\n",
    "    dcc.Graph( \n",
    "      id = 'temp_plot',\n",
    "      figure = {\n",
    "        'data': trazos,\n",
    "        'layout': go.Layout(\n",
    "          xaxis = {'title': 'Fecha'},\n",
    "          yaxis = {'title': 'Temperatura Media'},\n",
    "          hovermode = 'closest'\n",
    "        )\n",
    "      }\n",
    "  )],\n",
    "    style = {\n",
    "      'width':'60%',\n",
    "      'float':'left'\n",
    "    }\n",
    "  ),\n",
    "  html.Div([\n",
    "    html.Pre(id='hover_data', style={'paddingTop':35}) #Elemento HTML Pre (preformateado) conserva espacios y saltos de línea\n",
    "    ], \n",
    "      style={'width':'30%'}\n",
    "  )\n",
    "])"
   ]
  },
  {
   "cell_type": "code",
   "execution_count": 7,
   "metadata": {},
   "outputs": [],
   "source": [
    "# CREACIÓN DE INTERACTIVIDAD\n",
    "#Callback para devolver en componente Pre hover-data la información en formato json respecto a dónde tengamos el cursor en temp_plot\n",
    "@app.callback(\n",
    "  Output('hover_data', 'children'),\n",
    "  [\n",
    "    Input('temp_plot', 'hoverData') #poder usar las propiedades hoverData, clickData o selectedData\n",
    "  ]\n",
    ")\n",
    "def callback_json(value):\n",
    "  return json.dumps(value, indent=2)"
   ]
  },
  {
   "cell_type": "code",
   "execution_count": 8,
   "metadata": {},
   "outputs": [
    {
     "name": "stdout",
     "output_type": "stream",
     "text": [
      "Dash is running on http://127.0.0.1:7665/\n",
      "\n",
      " * Serving Flask app \"__main__\" (lazy loading)\n",
      " * Environment: production\n",
      "\u001b[31m   WARNING: This is a development server. Do not use it in a production deployment.\u001b[0m\n",
      "\u001b[2m   Use a production WSGI server instead.\u001b[0m\n",
      " * Debug mode: off\n"
     ]
    },
    {
     "name": "stderr",
     "output_type": "stream",
     "text": [
      " * Running on http://127.0.0.1:7665/ (Press CTRL+C to quit)\n"
     ]
    }
   ],
   "source": [
    "#Sentencias para abrir el servidor al ejecutar este script\n",
    "if __name__ == \"__main__\":\n",
    "  app.run_server(port = 7665)"
   ]
  }
 ],
 "metadata": {
  "kernelspec": {
   "display_name": "Python 3.9.12 ('base')",
   "language": "python",
   "name": "python3"
  },
  "language_info": {
   "codemirror_mode": {
    "name": "ipython",
    "version": 3
   },
   "file_extension": ".py",
   "mimetype": "text/x-python",
   "name": "python",
   "nbconvert_exporter": "python",
   "pygments_lexer": "ipython3",
   "version": "3.9.12"
  },
  "orig_nbformat": 4,
  "vscode": {
   "interpreter": {
    "hash": "ad2bdc8ecc057115af97d19610ffacc2b4e99fae6737bb82f5d7fb13d2f2c186"
   }
  }
 },
 "nbformat": 4,
 "nbformat_minor": 2
}
