{
 "cells": [
  {
   "cell_type": "code",
   "execution_count": 1,
   "metadata": {},
   "outputs": [],
   "source": [
    "import plotly.offline as pyo\n",
    "import plotly.figure_factory as ff\n",
    "import pandas as pd"
   ]
  },
  {
   "cell_type": "code",
   "execution_count": 2,
   "metadata": {},
   "outputs": [],
   "source": [
    "#cargar datos \n",
    "df_pet = pd.read_csv(r'./database/peatones_2020_mod.csv', encoding='ISO-8859-1', delimiter=';')"
   ]
  },
  {
   "cell_type": "code",
   "execution_count": 3,
   "metadata": {},
   "outputs": [
    {
     "data": {
      "text/html": [
       "<div>\n",
       "<style scoped>\n",
       "    .dataframe tbody tr th:only-of-type {\n",
       "        vertical-align: middle;\n",
       "    }\n",
       "\n",
       "    .dataframe tbody tr th {\n",
       "        vertical-align: top;\n",
       "    }\n",
       "\n",
       "    .dataframe thead th {\n",
       "        text-align: right;\n",
       "    }\n",
       "</style>\n",
       "<table border=\"1\" class=\"dataframe\">\n",
       "  <thead>\n",
       "    <tr style=\"text-align: right;\">\n",
       "      <th></th>\n",
       "      <th>fecha</th>\n",
       "      <th>hora</th>\n",
       "      <th>id</th>\n",
       "      <th>peatones</th>\n",
       "      <th>num_distrito</th>\n",
       "      <th>distrito</th>\n",
       "      <th>name_vial</th>\n",
       "      <th>num</th>\n",
       "      <th>cod_post</th>\n",
       "      <th>observacion</th>\n",
       "      <th>lat</th>\n",
       "      <th>log</th>\n",
       "    </tr>\n",
       "  </thead>\n",
       "  <tbody>\n",
       "    <tr>\n",
       "      <th>0</th>\n",
       "      <td>1/1/2020</td>\n",
       "      <td>00:00:00</td>\n",
       "      <td>PERM_PEA02_PM01</td>\n",
       "      <td>497</td>\n",
       "      <td>1.0</td>\n",
       "      <td>Centro</td>\n",
       "      <td>Calle Fuencarral</td>\n",
       "      <td>22.0</td>\n",
       "      <td>28004.0</td>\n",
       "      <td>Calle peatonal Datos en prueba</td>\n",
       "      <td>40,42</td>\n",
       "      <td>-3,70</td>\n",
       "    </tr>\n",
       "    <tr>\n",
       "      <th>1</th>\n",
       "      <td>1/1/2020</td>\n",
       "      <td>00:15:00</td>\n",
       "      <td>PERM_PEA02_PM01</td>\n",
       "      <td>244</td>\n",
       "      <td>1.0</td>\n",
       "      <td>Centro</td>\n",
       "      <td>Calle Fuencarral</td>\n",
       "      <td>22.0</td>\n",
       "      <td>28004.0</td>\n",
       "      <td>Calle peatonal Datos en prueba</td>\n",
       "      <td>40,42</td>\n",
       "      <td>-3,70</td>\n",
       "    </tr>\n",
       "    <tr>\n",
       "      <th>2</th>\n",
       "      <td>1/1/2020</td>\n",
       "      <td>00:30:00</td>\n",
       "      <td>PERM_PEA02_PM01</td>\n",
       "      <td>179</td>\n",
       "      <td>1.0</td>\n",
       "      <td>Centro</td>\n",
       "      <td>Calle Fuencarral</td>\n",
       "      <td>22.0</td>\n",
       "      <td>28004.0</td>\n",
       "      <td>Calle peatonal Datos en prueba</td>\n",
       "      <td>40,42</td>\n",
       "      <td>-3,70</td>\n",
       "    </tr>\n",
       "    <tr>\n",
       "      <th>3</th>\n",
       "      <td>1/1/2020</td>\n",
       "      <td>00:45:00</td>\n",
       "      <td>PERM_PEA02_PM01</td>\n",
       "      <td>174</td>\n",
       "      <td>1.0</td>\n",
       "      <td>Centro</td>\n",
       "      <td>Calle Fuencarral</td>\n",
       "      <td>22.0</td>\n",
       "      <td>28004.0</td>\n",
       "      <td>Calle peatonal Datos en prueba</td>\n",
       "      <td>40,42</td>\n",
       "      <td>-3,70</td>\n",
       "    </tr>\n",
       "    <tr>\n",
       "      <th>4</th>\n",
       "      <td>1/1/2020</td>\n",
       "      <td>01:00:00</td>\n",
       "      <td>PERM_PEA02_PM01</td>\n",
       "      <td>131</td>\n",
       "      <td>1.0</td>\n",
       "      <td>Centro</td>\n",
       "      <td>Calle Fuencarral</td>\n",
       "      <td>22.0</td>\n",
       "      <td>28004.0</td>\n",
       "      <td>Calle peatonal Datos en prueba</td>\n",
       "      <td>40,42</td>\n",
       "      <td>-3,70</td>\n",
       "    </tr>\n",
       "  </tbody>\n",
       "</table>\n",
       "</div>"
      ],
      "text/plain": [
       "      fecha      hora               id  peatones  num_distrito distrito  \\\n",
       "0  1/1/2020  00:00:00  PERM_PEA02_PM01       497           1.0   Centro   \n",
       "1  1/1/2020  00:15:00  PERM_PEA02_PM01       244           1.0   Centro   \n",
       "2  1/1/2020  00:30:00  PERM_PEA02_PM01       179           1.0   Centro   \n",
       "3  1/1/2020  00:45:00  PERM_PEA02_PM01       174           1.0   Centro   \n",
       "4  1/1/2020  01:00:00  PERM_PEA02_PM01       131           1.0   Centro   \n",
       "\n",
       "          name_vial   num  cod_post                     observacion    lat  \\\n",
       "0  Calle Fuencarral  22.0   28004.0  Calle peatonal Datos en prueba  40,42   \n",
       "1  Calle Fuencarral  22.0   28004.0  Calle peatonal Datos en prueba  40,42   \n",
       "2  Calle Fuencarral  22.0   28004.0  Calle peatonal Datos en prueba  40,42   \n",
       "3  Calle Fuencarral  22.0   28004.0  Calle peatonal Datos en prueba  40,42   \n",
       "4  Calle Fuencarral  22.0   28004.0  Calle peatonal Datos en prueba  40,42   \n",
       "\n",
       "     log  \n",
       "0  -3,70  \n",
       "1  -3,70  \n",
       "2  -3,70  \n",
       "3  -3,70  \n",
       "4  -3,70  "
      ]
     },
     "execution_count": 3,
     "metadata": {},
     "output_type": "execute_result"
    }
   ],
   "source": [
    "#revisión de datos \n",
    "df_pet.head()"
   ]
  },
  {
   "cell_type": "code",
   "execution_count": 4,
   "metadata": {},
   "outputs": [
    {
     "data": {
      "text/plain": [
       "fecha            object\n",
       "hora             object\n",
       "id               object\n",
       "peatones          int64\n",
       "num_distrito    float64\n",
       "distrito         object\n",
       "name_vial        object\n",
       "num             float64\n",
       "cod_post        float64\n",
       "observacion      object\n",
       "lat              object\n",
       "log              object\n",
       "dtype: object"
      ]
     },
     "execution_count": 4,
     "metadata": {},
     "output_type": "execute_result"
    }
   ],
   "source": [
    "df_pet.dtypes"
   ]
  },
  {
   "cell_type": "code",
   "execution_count": 5,
   "metadata": {},
   "outputs": [],
   "source": [
    "#objeto hist_data con los datos a utilizar, pueden ser columnas de un df\n",
    "trace_0 = df_pet[df_pet[\"distrito\"] ==\"Arganzuela\"][\"peatones\"]\n",
    "trace_1 = df_pet[df_pet[\"distrito\"] ==\"Centro\"][\"peatones\"]\n",
    "hist_data = [trace_0, trace_1]"
   ]
  },
  {
   "cell_type": "code",
   "execution_count": 6,
   "metadata": {},
   "outputs": [],
   "source": [
    "#etiquetas para el grafico \n",
    "group_labels = [\"Arganzuela\", \"Centro\"]"
   ]
  },
  {
   "cell_type": "code",
   "execution_count": 7,
   "metadata": {},
   "outputs": [],
   "source": [
    "#creación del objeto fig indicando el tamaño de los bins para cada distribución \n",
    "fig = ff.create_distplot(\n",
    "  hist_data,\n",
    "  group_labels, \n",
    "  bin_size =[1,6]\n",
    ")"
   ]
  },
  {
   "cell_type": "code",
   "execution_count": 8,
   "metadata": {},
   "outputs": [
    {
     "data": {
      "text/plain": [
       "'index.html'"
      ]
     },
     "execution_count": 8,
     "metadata": {},
     "output_type": "execute_result"
    }
   ],
   "source": [
    "# insertar el plot en un archivo html\n",
    "pyo.plot(fig, filename = \"index.html\")"
   ]
  }
 ],
 "metadata": {
  "kernelspec": {
   "display_name": "Python 3.9.12 ('base')",
   "language": "python",
   "name": "python3"
  },
  "language_info": {
   "codemirror_mode": {
    "name": "ipython",
    "version": 3
   },
   "file_extension": ".py",
   "mimetype": "text/x-python",
   "name": "python",
   "nbconvert_exporter": "python",
   "pygments_lexer": "ipython3",
   "version": "3.9.12"
  },
  "orig_nbformat": 4,
  "vscode": {
   "interpreter": {
    "hash": "ad2bdc8ecc057115af97d19610ffacc2b4e99fae6737bb82f5d7fb13d2f2c186"
   }
  }
 },
 "nbformat": 4,
 "nbformat_minor": 2
}
