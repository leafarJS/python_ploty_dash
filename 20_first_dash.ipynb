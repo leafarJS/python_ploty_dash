{
 "cells": [
  {
   "cell_type": "code",
   "execution_count": 6,
   "metadata": {},
   "outputs": [],
   "source": [
    "import dash \n",
    "import dash_core_components as dcc\n",
    "import dash_html_components as html\n"
   ]
  },
  {
   "cell_type": "code",
   "execution_count": 7,
   "metadata": {},
   "outputs": [],
   "source": [
    "app = dash.Dash()"
   ]
  },
  {
   "cell_type": "code",
   "execution_count": 8,
   "metadata": {},
   "outputs": [],
   "source": [
    "app.layout = html.Div([\n",
    "  html.H1(children = \"Primer dashboard con dash\"),\n",
    "  html.Div(children = \"Dash es un framework para aplicaciones web\"),\n",
    "  dcc.Graph(\n",
    "    id = \"figura_inicial\",\n",
    "    figure = {\n",
    "      \"data\":[\n",
    "        {\n",
    "          \"x\":[10,20,30,40,50],\n",
    "          \"y\":[60,70,80,90,100],\n",
    "          \"type\":\"bar\", \n",
    "          \"name\":\"Madrid\"\n",
    "        },\n",
    "        {\n",
    "          \"x\":[11,22,33,44,55],\n",
    "          \"y\":[62,72,82,92,102],\n",
    "          \"type\":\"bar\", \n",
    "          \"name\":\"Barcelona\"\n",
    "        }\n",
    "      ],\n",
    "      \"layout\":{\n",
    "        \"title\": \"Comparativa Madrid vs. Barcelona\"\n",
    "      }\n",
    "    }\n",
    "  )\n",
    "])"
   ]
  },
  {
   "cell_type": "code",
   "execution_count": null,
   "metadata": {},
   "outputs": [],
   "source": [
    "if __name__ == \"__main__\":\n",
    "  app.run_server()"
   ]
  }
 ],
 "metadata": {
  "kernelspec": {
   "display_name": "Python 3.9.12 ('base')",
   "language": "python",
   "name": "python3"
  },
  "language_info": {
   "codemirror_mode": {
    "name": "ipython",
    "version": 3
   },
   "file_extension": ".py",
   "mimetype": "text/x-python",
   "name": "python",
   "nbconvert_exporter": "python",
   "pygments_lexer": "ipython3",
   "version": "3.9.12"
  },
  "orig_nbformat": 4,
  "vscode": {
   "interpreter": {
    "hash": "ad2bdc8ecc057115af97d19610ffacc2b4e99fae6737bb82f5d7fb13d2f2c186"
   }
  }
 },
 "nbformat": 4,
 "nbformat_minor": 2
}
