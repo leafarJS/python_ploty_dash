{
 "cells": [
  {
   "cell_type": "code",
   "execution_count": null,
   "metadata": {},
   "outputs": [],
   "source": [
    "import dash \n",
    "import dash_core_components as dcc \n",
    "import dash_html_components as html \n",
    "import plotly.graph_objs as go \n",
    "import pandas as pd "
   ]
  },
  {
   "cell_type": "code",
   "execution_count": null,
   "metadata": {},
   "outputs": [],
   "source": [
    "#creación del objeto dash\n",
    "app = dash.Dash()"
   ]
  },
  {
   "cell_type": "code",
   "execution_count": null,
   "metadata": {},
   "outputs": [],
   "source": [
    "#carga de datos \n",
    "df_iris = pd.read_csv(r'./database/iris_dataset.csv', encoding='ISO-8859-1', delimiter =',') "
   ]
  },
  {
   "cell_type": "code",
   "execution_count": null,
   "metadata": {},
   "outputs": [],
   "source": [
    "#analisis de datos\n",
    "df_iris.head(3)"
   ]
  },
  {
   "cell_type": "code",
   "execution_count": null,
   "metadata": {},
   "outputs": [],
   "source": [
    "df_iris.sample(3)"
   ]
  },
  {
   "cell_type": "code",
   "execution_count": null,
   "metadata": {},
   "outputs": [],
   "source": [
    "df_iris.shape"
   ]
  },
  {
   "cell_type": "code",
   "execution_count": null,
   "metadata": {},
   "outputs": [],
   "source": [
    "df_iris.size"
   ]
  },
  {
   "cell_type": "code",
   "execution_count": null,
   "metadata": {},
   "outputs": [],
   "source": [
    "df_iris.columns = ['log_sep', 'ach_sep', 'log_pet', 'ach_pet', 'clase']"
   ]
  },
  {
   "cell_type": "code",
   "execution_count": null,
   "metadata": {},
   "outputs": [],
   "source": [
    "df_iris.head(3)"
   ]
  },
  {
   "cell_type": "code",
   "execution_count": null,
   "metadata": {},
   "outputs": [],
   "source": [
    "df_iris.dtypes"
   ]
  },
  {
   "cell_type": "code",
   "execution_count": null,
   "metadata": {},
   "outputs": [],
   "source": [
    "#creación grafico\n",
    "data_1 = [go.Scatter(\n",
    "  x = df_iris['log_sep'],\n",
    "  y = df_iris['ach_sep'],\n",
    "  mode = \"markers\",\n",
    "  marker = {\n",
    "    \"size\":12,\n",
    "    \"symbol\":\"circle\",\n",
    "    \"line\":{\n",
    "      \"width\":3\n",
    "    }\n",
    "  }\n",
    ")]\n",
    "\n",
    "data_2 = [go.Scatter(\n",
    "  x = df_iris['log_pet'],\n",
    "  y = df_iris['ach_pet'],\n",
    "  mode = \"markers\",\n",
    "  marker = {\n",
    "    \"size\":10,\n",
    "    \"symbol\":\"square\",\n",
    "    \"line\":{\n",
    "      \"width\":4\n",
    "    }\n",
    "  }\n",
    ")]"
   ]
  },
  {
   "cell_type": "code",
   "execution_count": null,
   "metadata": {},
   "outputs": [],
   "source": [
    "#creación del layout \n",
    "layout_1 = go.Layout(\n",
    "  title = \"Iris Scatter plot Sepalo\",\n",
    "  xaxis = {'title':'Longitud Sepalo'},\n",
    "  yaxis = {'title':'Anchura Sepalo'}\n",
    ")\n",
    "layout_2 = go.Layout(\n",
    "  title = \"Iris Scatter plot Petalo\",\n",
    "  xaxis = {'title':'Longitud Pepalo'},\n",
    "  yaxis = {'title':'Anchura Pepalo'}\n",
    ")"
   ]
  },
  {
   "cell_type": "code",
   "execution_count": null,
   "metadata": {},
   "outputs": [],
   "source": [
    "#creación del dashboard \n",
    "app.layout = html.Div([\n",
    "  dcc.Graph(\n",
    "    id = 'scatterplot',\n",
    "    figure = {\n",
    "      'data': data_1,\n",
    "      'layout': layout_1\n",
    "    }\n",
    "  ),\n",
    "  dcc.Graph(\n",
    "    id = 'scatterplot',\n",
    "    figure = {\n",
    "      'data' : data_2,\n",
    "      'layout' : layout_2\n",
    "    }\n",
    "  )\n",
    "])"
   ]
  },
  {
   "cell_type": "code",
   "execution_count": null,
   "metadata": {},
   "outputs": [],
   "source": [
    "#subir al servidor\n",
    "if __name__ == '__main__':\n",
    "  app.run_server(port=8000)\n"
   ]
  }
 ],
 "metadata": {
  "kernelspec": {
   "display_name": "Python 3.9.12 ('base')",
   "language": "python",
   "name": "python3"
  },
  "language_info": {
   "codemirror_mode": {
    "name": "ipython",
    "version": 3
   },
   "file_extension": ".py",
   "mimetype": "text/x-python",
   "name": "python",
   "nbconvert_exporter": "python",
   "pygments_lexer": "ipython3",
   "version": "3.9.12"
  },
  "orig_nbformat": 4,
  "vscode": {
   "interpreter": {
    "hash": "ad2bdc8ecc057115af97d19610ffacc2b4e99fae6737bb82f5d7fb13d2f2c186"
   }
  }
 },
 "nbformat": 4,
 "nbformat_minor": 2
}
