{
 "cells": [
  {
   "cell_type": "code",
   "execution_count": 24,
   "metadata": {},
   "outputs": [],
   "source": [
    "import dash\n",
    "import dash_core_components as dcc\n",
    "import dash_html_components as html\n",
    "import plotly.graph_objs as go\n",
    "import pandas as pd"
   ]
  },
  {
   "cell_type": "code",
   "execution_count": 25,
   "metadata": {},
   "outputs": [],
   "source": [
    "app = dash.Dash()"
   ]
  },
  {
   "cell_type": "code",
   "execution_count": 26,
   "metadata": {},
   "outputs": [],
   "source": [
    "\n",
    "# Carga datos\n",
    "df_sp500 = pd.read_csv(r'./database/SP500_data_.csv',encoding = 'ISO-8859-1',delimiter=',')"
   ]
  },
  {
   "cell_type": "code",
   "execution_count": 27,
   "metadata": {},
   "outputs": [
    {
     "data": {
      "text/html": [
       "<div>\n",
       "<style scoped>\n",
       "    .dataframe tbody tr th:only-of-type {\n",
       "        vertical-align: middle;\n",
       "    }\n",
       "\n",
       "    .dataframe tbody tr th {\n",
       "        vertical-align: top;\n",
       "    }\n",
       "\n",
       "    .dataframe thead th {\n",
       "        text-align: right;\n",
       "    }\n",
       "</style>\n",
       "<table border=\"1\" class=\"dataframe\">\n",
       "  <thead>\n",
       "    <tr style=\"text-align: right;\">\n",
       "      <th></th>\n",
       "      <th>Date</th>\n",
       "      <th>Open</th>\n",
       "      <th>High</th>\n",
       "      <th>Low</th>\n",
       "      <th>Close</th>\n",
       "      <th>Adj Close</th>\n",
       "      <th>Volume</th>\n",
       "    </tr>\n",
       "  </thead>\n",
       "  <tbody>\n",
       "    <tr>\n",
       "      <th>0</th>\n",
       "      <td>1928-01-03</td>\n",
       "      <td>17.760000</td>\n",
       "      <td>17.760000</td>\n",
       "      <td>17.760000</td>\n",
       "      <td>17.760000</td>\n",
       "      <td>17.760000</td>\n",
       "      <td>0</td>\n",
       "    </tr>\n",
       "    <tr>\n",
       "      <th>1</th>\n",
       "      <td>1928-01-04</td>\n",
       "      <td>17.719999</td>\n",
       "      <td>17.719999</td>\n",
       "      <td>17.719999</td>\n",
       "      <td>17.719999</td>\n",
       "      <td>17.719999</td>\n",
       "      <td>0</td>\n",
       "    </tr>\n",
       "    <tr>\n",
       "      <th>2</th>\n",
       "      <td>1928-01-05</td>\n",
       "      <td>17.549999</td>\n",
       "      <td>17.549999</td>\n",
       "      <td>17.549999</td>\n",
       "      <td>17.549999</td>\n",
       "      <td>17.549999</td>\n",
       "      <td>0</td>\n",
       "    </tr>\n",
       "  </tbody>\n",
       "</table>\n",
       "</div>"
      ],
      "text/plain": [
       "         Date       Open       High        Low      Close  Adj Close  Volume\n",
       "0  1928-01-03  17.760000  17.760000  17.760000  17.760000  17.760000       0\n",
       "1  1928-01-04  17.719999  17.719999  17.719999  17.719999  17.719999       0\n",
       "2  1928-01-05  17.549999  17.549999  17.549999  17.549999  17.549999       0"
      ]
     },
     "execution_count": 27,
     "metadata": {},
     "output_type": "execute_result"
    }
   ],
   "source": [
    "df_sp500.head(3)"
   ]
  },
  {
   "cell_type": "code",
   "execution_count": 28,
   "metadata": {},
   "outputs": [
    {
     "data": {
      "text/plain": [
       "Date          object\n",
       "Open         float64\n",
       "High         float64\n",
       "Low          float64\n",
       "Close        float64\n",
       "Adj Close    float64\n",
       "Volume         int64\n",
       "dtype: object"
      ]
     },
     "execution_count": 28,
     "metadata": {},
     "output_type": "execute_result"
    }
   ],
   "source": [
    "df_sp500.dtypes"
   ]
  },
  {
   "cell_type": "code",
   "execution_count": 29,
   "metadata": {},
   "outputs": [
    {
     "data": {
      "text/html": [
       "<div>\n",
       "<style scoped>\n",
       "    .dataframe tbody tr th:only-of-type {\n",
       "        vertical-align: middle;\n",
       "    }\n",
       "\n",
       "    .dataframe tbody tr th {\n",
       "        vertical-align: top;\n",
       "    }\n",
       "\n",
       "    .dataframe thead th {\n",
       "        text-align: right;\n",
       "    }\n",
       "</style>\n",
       "<table border=\"1\" class=\"dataframe\">\n",
       "  <thead>\n",
       "    <tr style=\"text-align: right;\">\n",
       "      <th></th>\n",
       "      <th>Date</th>\n",
       "      <th>Open</th>\n",
       "      <th>High</th>\n",
       "      <th>Low</th>\n",
       "      <th>Close</th>\n",
       "      <th>Adj Close</th>\n",
       "      <th>Volume</th>\n",
       "    </tr>\n",
       "  </thead>\n",
       "  <tbody>\n",
       "    <tr>\n",
       "      <th>2136</th>\n",
       "      <td>2002-01-02</td>\n",
       "      <td>1148.079956</td>\n",
       "      <td>1154.670044</td>\n",
       "      <td>1136.229980</td>\n",
       "      <td>1154.670044</td>\n",
       "      <td>1154.670044</td>\n",
       "      <td>1171000000</td>\n",
       "    </tr>\n",
       "    <tr>\n",
       "      <th>2508</th>\n",
       "      <td>2015-01-15</td>\n",
       "      <td>2013.750000</td>\n",
       "      <td>2021.349976</td>\n",
       "      <td>1991.469971</td>\n",
       "      <td>1992.670044</td>\n",
       "      <td>1992.670044</td>\n",
       "      <td>4276720000</td>\n",
       "    </tr>\n",
       "    <tr>\n",
       "      <th>2356</th>\n",
       "      <td>2009-09-01</td>\n",
       "      <td>1019.520020</td>\n",
       "      <td>1028.449951</td>\n",
       "      <td>996.280029</td>\n",
       "      <td>998.039978</td>\n",
       "      <td>998.039978</td>\n",
       "      <td>6862360000</td>\n",
       "    </tr>\n",
       "  </tbody>\n",
       "</table>\n",
       "</div>"
      ],
      "text/plain": [
       "            Date         Open         High          Low        Close  \\\n",
       "2136  2002-01-02  1148.079956  1154.670044  1136.229980  1154.670044   \n",
       "2508  2015-01-15  2013.750000  2021.349976  1991.469971  1992.670044   \n",
       "2356  2009-09-01  1019.520020  1028.449951   996.280029   998.039978   \n",
       "\n",
       "        Adj Close      Volume  \n",
       "2136  1154.670044  1171000000  \n",
       "2508  1992.670044  4276720000  \n",
       "2356   998.039978  6862360000  "
      ]
     },
     "execution_count": 29,
     "metadata": {},
     "output_type": "execute_result"
    }
   ],
   "source": [
    "df_sp500.sample(3)"
   ]
  },
  {
   "cell_type": "code",
   "execution_count": 30,
   "metadata": {},
   "outputs": [],
   "source": [
    "#Objetos plotly.graph\n",
    "data_1 = [go.Scatter(\n",
    "  x = df_sp500['Date'],\n",
    "  y = df_sp500['Close'],\n",
    "  mode = 'lines'\n",
    ")]\n",
    "\n",
    "data_2 = [go.Bar(\n",
    "  x = df_sp500['Date'],\n",
    "  y = df_sp500['Volume']\n",
    ")]"
   ]
  },
  {
   "cell_type": "code",
   "execution_count": 31,
   "metadata": {},
   "outputs": [],
   "source": [
    "#crear layout \n",
    "layout_1 = go.Layout(\n",
    "  title = \"SP500 Cotización\",\n",
    "  xaxis = {\"title\":\"Fecha\"},\n",
    "  yaxis = {\"title\":\"SP500 Valor\"}\n",
    ")\n",
    "\n",
    "layout_2 = go.Layout(\n",
    "  title = \"SP500 Volumen negociado\",\n",
    "  xaxis = {\"title\":\"Fecha\"},\n",
    "  yaxis = {\"title\": \"Volumen\"}\n",
    ")"
   ]
  },
  {
   "cell_type": "code",
   "execution_count": 32,
   "metadata": {},
   "outputs": [],
   "source": [
    "#Definición del layout de la app a partir de componentes HTML y Core\n",
    "app.layout = html.Div([\n",
    "  html.Label('Menu Opciones'),\n",
    "  dcc.Dropdown(\n",
    "    options = [\n",
    "      {\n",
    "      \"label\": \"Apertura\",\n",
    "      \"value\": \"Open\"\n",
    "      },\n",
    "      {\n",
    "        \"label\": \"Cierre\",\n",
    "        \"value\": \"Close\"\n",
    "      }\n",
    "    ],\n",
    "    value = 'Open'\n",
    "  ),\n",
    "  dcc.Graph(\n",
    "    id = \"lineplot\",\n",
    "    figure = {\n",
    "      \"data\": data_1,\n",
    "      \"layout\": layout_1\n",
    "    }\n",
    "  ),\n",
    "  dcc.Graph(\n",
    "    id = \"barplot\",\n",
    "    figure = {\n",
    "      \"data\": data_2,\n",
    "      \"layout\": layout_2\n",
    "    }\n",
    "  )\n",
    "])"
   ]
  },
  {
   "cell_type": "code",
   "execution_count": 33,
   "metadata": {},
   "outputs": [
    {
     "name": "stdout",
     "output_type": "stream",
     "text": [
      "Dash is running on http://127.0.0.1:7000/\n",
      "\n",
      "Dash is running on http://127.0.0.1:7000/\n",
      "\n",
      "Dash is running on http://127.0.0.1:7000/\n",
      "\n",
      " * Serving Flask app \"__main__\" (lazy loading)\n",
      " * Environment: production\n",
      "\u001b[31m   WARNING: This is a development server. Do not use it in a production deployment.\u001b[0m\n",
      "\u001b[2m   Use a production WSGI server instead.\u001b[0m\n",
      " * Debug mode: off\n"
     ]
    },
    {
     "name": "stderr",
     "output_type": "stream",
     "text": [
      " * Running on http://127.0.0.1:7000/ (Press CTRL+C to quit)\n"
     ]
    }
   ],
   "source": [
    "#Sentencias para abrir el servidor al ejecutar este script\n",
    "if __name__ == '__main__':\n",
    "    app.run_server(port=7000)"
   ]
  }
 ],
 "metadata": {
  "kernelspec": {
   "display_name": "Python 3.9.12 ('base')",
   "language": "python",
   "name": "python3"
  },
  "language_info": {
   "codemirror_mode": {
    "name": "ipython",
    "version": 3
   },
   "file_extension": ".py",
   "mimetype": "text/x-python",
   "name": "python",
   "nbconvert_exporter": "python",
   "pygments_lexer": "ipython3",
   "version": "3.9.12"
  },
  "orig_nbformat": 4,
  "vscode": {
   "interpreter": {
    "hash": "ad2bdc8ecc057115af97d19610ffacc2b4e99fae6737bb82f5d7fb13d2f2c186"
   }
  }
 },
 "nbformat": 4,
 "nbformat_minor": 2
}
