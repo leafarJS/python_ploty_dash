{
 "cells": [
  {
   "cell_type": "code",
   "execution_count": null,
   "metadata": {},
   "outputs": [],
   "source": [
    "import dash\n",
    "import dash_core_components as dcc\n",
    "import dash_html_components as html\n",
    "import plotly.graph_objs as go\n",
    "import pandas as pd"
   ]
  },
  {
   "cell_type": "code",
   "execution_count": null,
   "metadata": {},
   "outputs": [],
   "source": [
    "app = dash.Dash()"
   ]
  },
  {
   "cell_type": "code",
   "execution_count": null,
   "metadata": {},
   "outputs": [],
   "source": [
    "\n",
    "# Carga datos\n",
    "df_sp500 = pd.read_csv(r'./database/SP500_data_.csv',encoding = 'ISO-8859-1',delimiter=',')"
   ]
  },
  {
   "cell_type": "code",
   "execution_count": null,
   "metadata": {},
   "outputs": [],
   "source": [
    "df_sp500.head(3)"
   ]
  },
  {
   "cell_type": "code",
   "execution_count": null,
   "metadata": {},
   "outputs": [],
   "source": [
    "df_sp500.dtypes"
   ]
  },
  {
   "cell_type": "code",
   "execution_count": null,
   "metadata": {},
   "outputs": [],
   "source": [
    "df_sp500.sample(3)"
   ]
  },
  {
   "cell_type": "code",
   "execution_count": null,
   "metadata": {},
   "outputs": [],
   "source": [
    "#Objetos plotly.graph\n",
    "data_1 = [go.Scatter(\n",
    "  x = df_sp500['Date'],\n",
    "  y = df_sp500['Close'],\n",
    "  mode = 'lines'\n",
    ")]\n",
    "\n",
    "data_2 = [go.Bar(\n",
    "  x = df_sp500['Date'],\n",
    "  y = df_sp500['Volume']\n",
    ")]"
   ]
  },
  {
   "cell_type": "code",
   "execution_count": null,
   "metadata": {},
   "outputs": [],
   "source": [
    "#crear layout \n",
    "layout_1 = go.Layout(\n",
    "  title = \"SP500 Cotización\",\n",
    "  xaxis = {\"title\":\"Fecha\"},\n",
    "  yaxis = {\"title\":\"SP500 Valor\"}\n",
    ")\n",
    "\n",
    "layout_2 = go.Layout(\n",
    "  title = \"SP500 Volumen negociado\",\n",
    "  xaxis = {\"title\":\"Fecha\"},\n",
    "  yaxis = {\"title\": \"Volumen\"}\n",
    ")"
   ]
  },
  {
   "cell_type": "code",
   "execution_count": null,
   "metadata": {},
   "outputs": [],
   "source": [
    "#Definición del layout de la app a partir de componentes HTML y Core\n",
    "app.layout = html.Div([\n",
    "  html.Label('Menu Opciones'),\n",
    "  dcc.Dropdown(\n",
    "    options = [\n",
    "      {\n",
    "      \"label\": \"Apertura\",\n",
    "      \"value\": \"Open\"\n",
    "      },\n",
    "      {\n",
    "        \"label\": \"Cierre\",\n",
    "        \"value\": \"Close\"\n",
    "      }\n",
    "    ],\n",
    "    value = 'Open'\n",
    "  ),\n",
    "  dcc.Graph(\n",
    "    id = \"lineplot\",\n",
    "    figure = {\n",
    "      \"data\": data_1,\n",
    "      \"layout\": layout_1\n",
    "    }\n",
    "  ),\n",
    "  dcc.Graph(\n",
    "    id = \"barplot\",\n",
    "    figure = {\n",
    "      \"data\": data_2,\n",
    "      \"layout\": layout_2\n",
    "    }\n",
    "  )\n",
    "])"
   ]
  },
  {
   "cell_type": "code",
   "execution_count": null,
   "metadata": {},
   "outputs": [],
   "source": [
    "#Sentencias para abrir el servidor al ejecutar este script\n",
    "if __name__ == '__main__':\n",
    "    app.run_server(port=7000)"
   ]
  }
 ],
 "metadata": {
  "kernelspec": {
   "display_name": "Python 3.9.12 ('base')",
   "language": "python",
   "name": "python3"
  },
  "language_info": {
   "codemirror_mode": {
    "name": "ipython",
    "version": 3
   },
   "file_extension": ".py",
   "mimetype": "text/x-python",
   "name": "python",
   "nbconvert_exporter": "python",
   "pygments_lexer": "ipython3",
   "version": "3.9.12"
  },
  "orig_nbformat": 4,
  "vscode": {
   "interpreter": {
    "hash": "ad2bdc8ecc057115af97d19610ffacc2b4e99fae6737bb82f5d7fb13d2f2c186"
   }
  }
 },
 "nbformat": 4,
 "nbformat_minor": 2
}
