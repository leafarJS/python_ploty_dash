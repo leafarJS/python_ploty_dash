{
 "cells": [
  {
   "cell_type": "code",
   "execution_count": 16,
   "metadata": {},
   "outputs": [],
   "source": [
    "import plotly.offline as pyo\n",
    "import plotly.graph_objs as go\n",
    "import pandas as pd"
   ]
  },
  {
   "cell_type": "code",
   "execution_count": 17,
   "metadata": {},
   "outputs": [],
   "source": [
    "df_vts = pd.read_csv('./database/ventas.csv', encoding = 'ISO-8859-1', delimiter = ';')"
   ]
  },
  {
   "cell_type": "code",
   "execution_count": 18,
   "metadata": {},
   "outputs": [
    {
     "data": {
      "text/html": [
       "<div>\n",
       "<style scoped>\n",
       "    .dataframe tbody tr th:only-of-type {\n",
       "        vertical-align: middle;\n",
       "    }\n",
       "\n",
       "    .dataframe tbody tr th {\n",
       "        vertical-align: top;\n",
       "    }\n",
       "\n",
       "    .dataframe thead th {\n",
       "        text-align: right;\n",
       "    }\n",
       "</style>\n",
       "<table border=\"1\" class=\"dataframe\">\n",
       "  <thead>\n",
       "    <tr style=\"text-align: right;\">\n",
       "      <th></th>\n",
       "      <th>Fecha</th>\n",
       "      <th>Total Venta Classic Cars</th>\n",
       "      <th>Total Venta Motorcycles</th>\n",
       "      <th>Total Venta Planes</th>\n",
       "      <th>Total Venta Ships</th>\n",
       "      <th>Total Venta Trains</th>\n",
       "      <th>Total Venta Trucks and Buses</th>\n",
       "      <th>Total Venta Vintage Cars</th>\n",
       "    </tr>\n",
       "  </thead>\n",
       "  <tbody>\n",
       "    <tr>\n",
       "      <th>0</th>\n",
       "      <td>ene-21</td>\n",
       "      <td>198555</td>\n",
       "      <td>66199</td>\n",
       "      <td>103496.0</td>\n",
       "      <td>69068.0</td>\n",
       "      <td>NaN</td>\n",
       "      <td>101661.0</td>\n",
       "      <td>76212</td>\n",
       "    </tr>\n",
       "    <tr>\n",
       "      <th>1</th>\n",
       "      <td>feb-21</td>\n",
       "      <td>220266</td>\n",
       "      <td>107584</td>\n",
       "      <td>50660.0</td>\n",
       "      <td>46688.0</td>\n",
       "      <td>22295.0</td>\n",
       "      <td>7973.0</td>\n",
       "      <td>75539</td>\n",
       "    </tr>\n",
       "    <tr>\n",
       "      <th>2</th>\n",
       "      <td>mar-21</td>\n",
       "      <td>216497</td>\n",
       "      <td>158174</td>\n",
       "      <td>168445.0</td>\n",
       "      <td>2353.0</td>\n",
       "      <td>5234.0</td>\n",
       "      <td>71864.0</td>\n",
       "      <td>80267</td>\n",
       "    </tr>\n",
       "    <tr>\n",
       "      <th>3</th>\n",
       "      <td>abr-21</td>\n",
       "      <td>267449</td>\n",
       "      <td>52374</td>\n",
       "      <td>20541.0</td>\n",
       "      <td>NaN</td>\n",
       "      <td>NaN</td>\n",
       "      <td>51155.0</td>\n",
       "      <td>60920</td>\n",
       "    </tr>\n",
       "    <tr>\n",
       "      <th>4</th>\n",
       "      <td>may-21</td>\n",
       "      <td>285155</td>\n",
       "      <td>51863</td>\n",
       "      <td>NaN</td>\n",
       "      <td>NaN</td>\n",
       "      <td>25326.0</td>\n",
       "      <td>64369.0</td>\n",
       "      <td>67898</td>\n",
       "    </tr>\n",
       "  </tbody>\n",
       "</table>\n",
       "</div>"
      ],
      "text/plain": [
       "    Fecha  Total Venta Classic Cars  Total Venta Motorcycles  \\\n",
       "0  ene-21                    198555                    66199   \n",
       "1  feb-21                    220266                   107584   \n",
       "2  mar-21                    216497                   158174   \n",
       "3  abr-21                    267449                    52374   \n",
       "4  may-21                    285155                    51863   \n",
       "\n",
       "   Total Venta Planes  Total Venta Ships  Total Venta Trains  \\\n",
       "0            103496.0            69068.0                 NaN   \n",
       "1             50660.0            46688.0             22295.0   \n",
       "2            168445.0             2353.0              5234.0   \n",
       "3             20541.0                NaN                 NaN   \n",
       "4                 NaN                NaN             25326.0   \n",
       "\n",
       "   Total Venta Trucks and Buses  Total Venta Vintage Cars  \n",
       "0                      101661.0                     76212  \n",
       "1                        7973.0                     75539  \n",
       "2                       71864.0                     80267  \n",
       "3                       51155.0                     60920  \n",
       "4                       64369.0                     67898  "
      ]
     },
     "execution_count": 18,
     "metadata": {},
     "output_type": "execute_result"
    }
   ],
   "source": [
    "df_vts.head()"
   ]
  },
  {
   "cell_type": "code",
   "execution_count": 19,
   "metadata": {},
   "outputs": [
    {
     "data": {
      "text/html": [
       "<div>\n",
       "<style scoped>\n",
       "    .dataframe tbody tr th:only-of-type {\n",
       "        vertical-align: middle;\n",
       "    }\n",
       "\n",
       "    .dataframe tbody tr th {\n",
       "        vertical-align: top;\n",
       "    }\n",
       "\n",
       "    .dataframe thead th {\n",
       "        text-align: right;\n",
       "    }\n",
       "</style>\n",
       "<table border=\"1\" class=\"dataframe\">\n",
       "  <thead>\n",
       "    <tr style=\"text-align: right;\">\n",
       "      <th></th>\n",
       "      <th>Fecha</th>\n",
       "      <th>Total Venta Classic Cars</th>\n",
       "      <th>Total Venta Motorcycles</th>\n",
       "      <th>Total Venta Planes</th>\n",
       "      <th>Total Venta Ships</th>\n",
       "      <th>Total Venta Trains</th>\n",
       "      <th>Total Venta Trucks and Buses</th>\n",
       "      <th>Total Venta Vintage Cars</th>\n",
       "    </tr>\n",
       "  </thead>\n",
       "  <tbody>\n",
       "    <tr>\n",
       "      <th>7</th>\n",
       "      <td>ago-21</td>\n",
       "      <td>123039</td>\n",
       "      <td>88478</td>\n",
       "      <td>27227.0</td>\n",
       "      <td>27390.0</td>\n",
       "      <td>11402.0</td>\n",
       "      <td>41791.0</td>\n",
       "      <td>46291</td>\n",
       "    </tr>\n",
       "    <tr>\n",
       "      <th>8</th>\n",
       "      <td>sep-21</td>\n",
       "      <td>174256</td>\n",
       "      <td>6535</td>\n",
       "      <td>13368.0</td>\n",
       "      <td>25508.0</td>\n",
       "      <td>8771.0</td>\n",
       "      <td>46697.0</td>\n",
       "      <td>122563</td>\n",
       "    </tr>\n",
       "    <tr>\n",
       "      <th>9</th>\n",
       "      <td>oct-21</td>\n",
       "      <td>225774</td>\n",
       "      <td>72539</td>\n",
       "      <td>90772.0</td>\n",
       "      <td>37893.0</td>\n",
       "      <td>NaN</td>\n",
       "      <td>45272.0</td>\n",
       "      <td>96830</td>\n",
       "    </tr>\n",
       "    <tr>\n",
       "      <th>10</th>\n",
       "      <td>nov-21</td>\n",
       "      <td>127453</td>\n",
       "      <td>52915</td>\n",
       "      <td>37456.0</td>\n",
       "      <td>20452.0</td>\n",
       "      <td>6041.0</td>\n",
       "      <td>43588.0</td>\n",
       "      <td>54884</td>\n",
       "    </tr>\n",
       "    <tr>\n",
       "      <th>11</th>\n",
       "      <td>dic-21</td>\n",
       "      <td>173789</td>\n",
       "      <td>16646</td>\n",
       "      <td>58325.0</td>\n",
       "      <td>24352.0</td>\n",
       "      <td>3113.0</td>\n",
       "      <td>3983.0</td>\n",
       "      <td>134757</td>\n",
       "    </tr>\n",
       "  </tbody>\n",
       "</table>\n",
       "</div>"
      ],
      "text/plain": [
       "     Fecha  Total Venta Classic Cars  Total Venta Motorcycles  \\\n",
       "7   ago-21                    123039                    88478   \n",
       "8   sep-21                    174256                     6535   \n",
       "9   oct-21                    225774                    72539   \n",
       "10  nov-21                    127453                    52915   \n",
       "11  dic-21                    173789                    16646   \n",
       "\n",
       "    Total Venta Planes  Total Venta Ships  Total Venta Trains  \\\n",
       "7              27227.0            27390.0             11402.0   \n",
       "8              13368.0            25508.0              8771.0   \n",
       "9              90772.0            37893.0                 NaN   \n",
       "10             37456.0            20452.0              6041.0   \n",
       "11             58325.0            24352.0              3113.0   \n",
       "\n",
       "    Total Venta Trucks and Buses  Total Venta Vintage Cars  \n",
       "7                        41791.0                     46291  \n",
       "8                        46697.0                    122563  \n",
       "9                        45272.0                     96830  \n",
       "10                       43588.0                     54884  \n",
       "11                        3983.0                    134757  "
      ]
     },
     "execution_count": 19,
     "metadata": {},
     "output_type": "execute_result"
    }
   ],
   "source": [
    "df_vts.tail()"
   ]
  },
  {
   "cell_type": "code",
   "execution_count": 20,
   "metadata": {},
   "outputs": [
    {
     "data": {
      "text/plain": [
       "Fecha                            object\n",
       "Total Venta Classic Cars          int64\n",
       "Total Venta Motorcycles           int64\n",
       "Total Venta Planes              float64\n",
       "Total Venta Ships               float64\n",
       "Total Venta Trains              float64\n",
       "Total Venta Trucks and Buses    float64\n",
       "Total Venta Vintage Cars          int64\n",
       "dtype: object"
      ]
     },
     "execution_count": 20,
     "metadata": {},
     "output_type": "execute_result"
    }
   ],
   "source": [
    "df_vts.dtypes"
   ]
  },
  {
   "cell_type": "code",
   "execution_count": 21,
   "metadata": {},
   "outputs": [],
   "source": [
    "trazo_1 = go.Scatter(\n",
    "  x = df_vts['Fecha'],\n",
    "  y = df_vts['Total Venta Classic Cars'],\n",
    "  mode = 'lines',\n",
    "  name = 'Classic Cars'\n",
    ")"
   ]
  },
  {
   "cell_type": "code",
   "execution_count": 22,
   "metadata": {},
   "outputs": [],
   "source": [
    "trazo_2 = go.Scatter(\n",
    "  x = df_vts['Fecha'],\n",
    "  y = df_vts['Total Venta Motorcycles'],\n",
    "  mode = 'lines',\n",
    "  name = 'Motorcycles'\n",
    ")"
   ]
  },
  {
   "cell_type": "code",
   "execution_count": 23,
   "metadata": {},
   "outputs": [],
   "source": [
    "data = [trazo_1, trazo_2]"
   ]
  },
  {
   "cell_type": "code",
   "execution_count": 24,
   "metadata": {},
   "outputs": [],
   "source": [
    "layout = go.Layout(\n",
    "  title = \"Evoluación de Ventas\", \n",
    "  xaxis = {\"title\": \"Fecha\"},\n",
    "  yaxis = {\"title\":\"Total Ventas\"}\n",
    ")"
   ]
  },
  {
   "cell_type": "code",
   "execution_count": 25,
   "metadata": {},
   "outputs": [],
   "source": [
    "fig = go.Figure(data = data, layout = layout)"
   ]
  },
  {
   "cell_type": "code",
   "execution_count": 26,
   "metadata": {},
   "outputs": [
    {
     "data": {
      "text/plain": [
       "'ventas.html'"
      ]
     },
     "execution_count": 26,
     "metadata": {},
     "output_type": "execute_result"
    }
   ],
   "source": [
    "pyo.plot(fig, filename = \"ventas.html\")"
   ]
  }
 ],
 "metadata": {
  "kernelspec": {
   "display_name": "Python 3.9.12 ('base')",
   "language": "python",
   "name": "python3"
  },
  "language_info": {
   "codemirror_mode": {
    "name": "ipython",
    "version": 3
   },
   "file_extension": ".py",
   "mimetype": "text/x-python",
   "name": "python",
   "nbconvert_exporter": "python",
   "pygments_lexer": "ipython3",
   "version": "3.9.12"
  },
  "orig_nbformat": 4,
  "vscode": {
   "interpreter": {
    "hash": "ad2bdc8ecc057115af97d19610ffacc2b4e99fae6737bb82f5d7fb13d2f2c186"
   }
  }
 },
 "nbformat": 4,
 "nbformat_minor": 2
}
