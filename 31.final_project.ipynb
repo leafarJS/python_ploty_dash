{
 "cells": [
  {
   "cell_type": "code",
   "execution_count": 1,
   "metadata": {},
   "outputs": [],
   "source": [
    "# importar librerias\n",
    "import dash\n",
    "import dash_core_components as dcc\n",
    "import dash_html_components as html\n",
    "import plotly.graph_objects as go\n",
    "from dash.dependencies import Input, Output\n",
    "import pandas as pd"
   ]
  },
  {
   "cell_type": "code",
   "execution_count": 2,
   "metadata": {},
   "outputs": [],
   "source": [
    "#importar data\n",
    "df_vts = pd.read_excel(r'./database/Ventas.xlsx', sheet_name = \"Detalle\" )\n",
    "df_vts_acum = pd.read_excel(r'./database/Ventas.xlsx', sheet_name = \"Acumulado\")"
   ]
  },
  {
   "cell_type": "code",
   "execution_count": 3,
   "metadata": {},
   "outputs": [
    {
     "data": {
      "text/plain": [
       "149265"
      ]
     },
     "execution_count": 3,
     "metadata": {},
     "output_type": "execute_result"
    }
   ],
   "source": [
    "#analisis de datos de la\n",
    "df_vts.size"
   ]
  },
  {
   "cell_type": "code",
   "execution_count": 4,
   "metadata": {},
   "outputs": [
    {
     "data": {
      "text/plain": [
       "16"
      ]
     },
     "execution_count": 4,
     "metadata": {},
     "output_type": "execute_result"
    }
   ],
   "source": [
    "df_vts_acum.size"
   ]
  },
  {
   "cell_type": "code",
   "execution_count": 5,
   "metadata": {},
   "outputs": [
    {
     "data": {
      "text/html": [
       "<div>\n",
       "<style scoped>\n",
       "    .dataframe tbody tr th:only-of-type {\n",
       "        vertical-align: middle;\n",
       "    }\n",
       "\n",
       "    .dataframe tbody tr th {\n",
       "        vertical-align: top;\n",
       "    }\n",
       "\n",
       "    .dataframe thead th {\n",
       "        text-align: right;\n",
       "    }\n",
       "</style>\n",
       "<table border=\"1\" class=\"dataframe\">\n",
       "  <thead>\n",
       "    <tr style=\"text-align: right;\">\n",
       "      <th></th>\n",
       "      <th>ID Pedido</th>\n",
       "      <th>Fecha compra</th>\n",
       "      <th>Modo envío</th>\n",
       "      <th>ID Cliente</th>\n",
       "      <th>ID Producto</th>\n",
       "      <th>Precio unitario</th>\n",
       "      <th>Cantidad</th>\n",
       "      <th>Importe</th>\n",
       "      <th>Segmento</th>\n",
       "      <th>País</th>\n",
       "      <th>Categoría</th>\n",
       "      <th>Sub-categoría</th>\n",
       "      <th>Nombre Producto</th>\n",
       "      <th>Coste Producción</th>\n",
       "      <th>Beneficio</th>\n",
       "    </tr>\n",
       "  </thead>\n",
       "  <tbody>\n",
       "    <tr>\n",
       "      <th>0</th>\n",
       "      <td>CA-2016-152156</td>\n",
       "      <td>2020-11-08</td>\n",
       "      <td>Second Class</td>\n",
       "      <td>CG-12520</td>\n",
       "      <td>FUR-BO-10001798</td>\n",
       "      <td>261.960</td>\n",
       "      <td>2</td>\n",
       "      <td>523.920</td>\n",
       "      <td>Consumer</td>\n",
       "      <td>United States</td>\n",
       "      <td>Furniture</td>\n",
       "      <td>Bookcases</td>\n",
       "      <td>Bush Somerset Collection Bookcase</td>\n",
       "      <td>230.098156</td>\n",
       "      <td>63.723687</td>\n",
       "    </tr>\n",
       "    <tr>\n",
       "      <th>1</th>\n",
       "      <td>CA-2017-110198</td>\n",
       "      <td>2021-05-01</td>\n",
       "      <td>First Class</td>\n",
       "      <td>AG-10900</td>\n",
       "      <td>FUR-BO-10001798</td>\n",
       "      <td>314.352</td>\n",
       "      <td>3</td>\n",
       "      <td>943.056</td>\n",
       "      <td>Consumer</td>\n",
       "      <td>United States</td>\n",
       "      <td>Furniture</td>\n",
       "      <td>Bookcases</td>\n",
       "      <td>Bush Somerset Collection Bookcase</td>\n",
       "      <td>230.098156</td>\n",
       "      <td>252.761531</td>\n",
       "    </tr>\n",
       "    <tr>\n",
       "      <th>2</th>\n",
       "      <td>CA-2017-159793</td>\n",
       "      <td>2021-08-25</td>\n",
       "      <td>Standard Class</td>\n",
       "      <td>SV-20365</td>\n",
       "      <td>FUR-BO-10001798</td>\n",
       "      <td>130.980</td>\n",
       "      <td>2</td>\n",
       "      <td>261.960</td>\n",
       "      <td>Consumer</td>\n",
       "      <td>United States</td>\n",
       "      <td>Furniture</td>\n",
       "      <td>Bookcases</td>\n",
       "      <td>Bush Somerset Collection Bookcase</td>\n",
       "      <td>230.098156</td>\n",
       "      <td>-198.236313</td>\n",
       "    </tr>\n",
       "  </tbody>\n",
       "</table>\n",
       "</div>"
      ],
      "text/plain": [
       "        ID Pedido Fecha compra      Modo envío ID Cliente      ID Producto  \\\n",
       "0  CA-2016-152156   2020-11-08    Second Class   CG-12520  FUR-BO-10001798   \n",
       "1  CA-2017-110198   2021-05-01     First Class   AG-10900  FUR-BO-10001798   \n",
       "2  CA-2017-159793   2021-08-25  Standard Class   SV-20365  FUR-BO-10001798   \n",
       "\n",
       "   Precio unitario  Cantidad  Importe  Segmento           País  Categoría  \\\n",
       "0          261.960         2  523.920  Consumer  United States  Furniture   \n",
       "1          314.352         3  943.056  Consumer  United States  Furniture   \n",
       "2          130.980         2  261.960  Consumer  United States  Furniture   \n",
       "\n",
       "  Sub-categoría                    Nombre Producto  Coste Producción  \\\n",
       "0     Bookcases  Bush Somerset Collection Bookcase        230.098156   \n",
       "1     Bookcases  Bush Somerset Collection Bookcase        230.098156   \n",
       "2     Bookcases  Bush Somerset Collection Bookcase        230.098156   \n",
       "\n",
       "    Beneficio  \n",
       "0   63.723687  \n",
       "1  252.761531  \n",
       "2 -198.236313  "
      ]
     },
     "execution_count": 5,
     "metadata": {},
     "output_type": "execute_result"
    }
   ],
   "source": [
    "df_vts.head(3)"
   ]
  },
  {
   "cell_type": "code",
   "execution_count": 6,
   "metadata": {},
   "outputs": [],
   "source": [
    "df_vts.columns = ['idPed','fecha', 'mod_env','idCli','idPro','pre_unit','cant','imp','seg','pais','cat','sub_cat','pro','cost','ben']"
   ]
  },
  {
   "cell_type": "code",
   "execution_count": 7,
   "metadata": {},
   "outputs": [
    {
     "data": {
      "text/html": [
       "<div>\n",
       "<style scoped>\n",
       "    .dataframe tbody tr th:only-of-type {\n",
       "        vertical-align: middle;\n",
       "    }\n",
       "\n",
       "    .dataframe tbody tr th {\n",
       "        vertical-align: top;\n",
       "    }\n",
       "\n",
       "    .dataframe thead th {\n",
       "        text-align: right;\n",
       "    }\n",
       "</style>\n",
       "<table border=\"1\" class=\"dataframe\">\n",
       "  <thead>\n",
       "    <tr style=\"text-align: right;\">\n",
       "      <th></th>\n",
       "      <th>idPed</th>\n",
       "      <th>fecha</th>\n",
       "      <th>mod_env</th>\n",
       "      <th>idCli</th>\n",
       "      <th>idPro</th>\n",
       "      <th>pre_unit</th>\n",
       "      <th>cant</th>\n",
       "      <th>imp</th>\n",
       "      <th>seg</th>\n",
       "      <th>pais</th>\n",
       "      <th>cat</th>\n",
       "      <th>sub_cat</th>\n",
       "      <th>pro</th>\n",
       "      <th>cost</th>\n",
       "      <th>ben</th>\n",
       "    </tr>\n",
       "  </thead>\n",
       "  <tbody>\n",
       "    <tr>\n",
       "      <th>9948</th>\n",
       "      <td>CA-2017-113474</td>\n",
       "      <td>2021-03-30</td>\n",
       "      <td>First Class</td>\n",
       "      <td>TM-21490</td>\n",
       "      <td>OFF-EN-10004206</td>\n",
       "      <td>325.860</td>\n",
       "      <td>2</td>\n",
       "      <td>651.720</td>\n",
       "      <td>Consumer</td>\n",
       "      <td>Romania</td>\n",
       "      <td>Office Supplies</td>\n",
       "      <td>Envelopes</td>\n",
       "      <td>Multimedia Mailers</td>\n",
       "      <td>228.168887</td>\n",
       "      <td>195.382226</td>\n",
       "    </tr>\n",
       "    <tr>\n",
       "      <th>9949</th>\n",
       "      <td>CA-2016-160535</td>\n",
       "      <td>2020-11-25</td>\n",
       "      <td>Standard Class</td>\n",
       "      <td>BP-11050</td>\n",
       "      <td>TEC-MA-10004255</td>\n",
       "      <td>319.920</td>\n",
       "      <td>8</td>\n",
       "      <td>2559.360</td>\n",
       "      <td>Corporate</td>\n",
       "      <td>Romania</td>\n",
       "      <td>Technology</td>\n",
       "      <td>Machines</td>\n",
       "      <td>Konica Minolta magicolor 1690MF Multifunction ...</td>\n",
       "      <td>280.486707</td>\n",
       "      <td>315.466342</td>\n",
       "    </tr>\n",
       "    <tr>\n",
       "      <th>9950</th>\n",
       "      <td>CA-2016-129280</td>\n",
       "      <td>2020-05-03</td>\n",
       "      <td>First Class</td>\n",
       "      <td>SM-20905</td>\n",
       "      <td>TEC-MA-10003589</td>\n",
       "      <td>224.937</td>\n",
       "      <td>3</td>\n",
       "      <td>674.811</td>\n",
       "      <td>Consumer</td>\n",
       "      <td>Romania</td>\n",
       "      <td>Technology</td>\n",
       "      <td>Machines</td>\n",
       "      <td>Cisco 8961 IP Phone Charcoal</td>\n",
       "      <td>212.190300</td>\n",
       "      <td>38.240101</td>\n",
       "    </tr>\n",
       "  </tbody>\n",
       "</table>\n",
       "</div>"
      ],
      "text/plain": [
       "               idPed      fecha         mod_env     idCli            idPro  \\\n",
       "9948  CA-2017-113474 2021-03-30     First Class  TM-21490  OFF-EN-10004206   \n",
       "9949  CA-2016-160535 2020-11-25  Standard Class  BP-11050  TEC-MA-10004255   \n",
       "9950  CA-2016-129280 2020-05-03     First Class  SM-20905  TEC-MA-10003589   \n",
       "\n",
       "      pre_unit  cant       imp        seg     pais              cat  \\\n",
       "9948   325.860     2   651.720   Consumer  Romania  Office Supplies   \n",
       "9949   319.920     8  2559.360  Corporate  Romania       Technology   \n",
       "9950   224.937     3   674.811   Consumer  Romania       Technology   \n",
       "\n",
       "        sub_cat                                                pro  \\\n",
       "9948  Envelopes                                 Multimedia Mailers   \n",
       "9949   Machines  Konica Minolta magicolor 1690MF Multifunction ...   \n",
       "9950   Machines                       Cisco 8961 IP Phone Charcoal   \n",
       "\n",
       "            cost         ben  \n",
       "9948  228.168887  195.382226  \n",
       "9949  280.486707  315.466342  \n",
       "9950  212.190300   38.240101  "
      ]
     },
     "execution_count": 7,
     "metadata": {},
     "output_type": "execute_result"
    }
   ],
   "source": [
    "df_vts.tail(3)"
   ]
  },
  {
   "cell_type": "code",
   "execution_count": 8,
   "metadata": {},
   "outputs": [
    {
     "data": {
      "text/plain": [
       "idPed               object\n",
       "fecha       datetime64[ns]\n",
       "mod_env             object\n",
       "idCli               object\n",
       "idPro               object\n",
       "pre_unit           float64\n",
       "cant                 int64\n",
       "imp                float64\n",
       "seg                 object\n",
       "pais                object\n",
       "cat                 object\n",
       "sub_cat             object\n",
       "pro                 object\n",
       "cost               float64\n",
       "ben                float64\n",
       "dtype: object"
      ]
     },
     "execution_count": 8,
     "metadata": {},
     "output_type": "execute_result"
    }
   ],
   "source": [
    "df_vts.dtypes"
   ]
  },
  {
   "cell_type": "code",
   "execution_count": 9,
   "metadata": {},
   "outputs": [],
   "source": [
    "#crear el objeto dash\n",
    "app = dash.Dash"
   ]
  },
  {
   "cell_type": "code",
   "execution_count": 10,
   "metadata": {},
   "outputs": [],
   "source": [
    "token = 'pk.eyJ1IjoibGVhZmFyMTk3NyIsImEiOiJjbDlyNzBuY28wMjRoM25vNHNzZDVsZ2x4In0.krumWnuj6VoVCzjgEb5Yrw'"
   ]
  },
  {
   "cell_type": "code",
   "execution_count": 11,
   "metadata": {},
   "outputs": [],
   "source": [
    "#grafico geografico F 3\n",
    "fig_map = go.Figure(go.Scattermapbox(\n",
    "  lon = df_vts_acum['Longitud'],\n",
    "  lat = df_vts_acum['Latitud'],\n",
    "  text= df_vts_acum['Suma Ingresos'],\n",
    "  marker=go.scattermapbox.Marker(\n",
    "    size = df_vts_acum['Suma Ingresos']/50000,\n",
    "    color = df_vts_acum['Suma Ingresos']/50000\n",
    "  )\n",
    "))"
   ]
  },
  {
   "cell_type": "code",
   "execution_count": 12,
   "metadata": {},
   "outputs": [
    {
     "data": {
      "application/vnd.plotly.v1+json": {
       "config": {
        "plotlyServerURL": "https://plot.ly"
       },
       "data": [
        {
         "lat": [
          51.165691,
          47.23333,
          40.4165,
          37.0902
         ],
         "lon": [
          10.451526,
          22.65,
          -3.7026,
          -95.7129
         ],
         "marker": {
          "color": [
           68.85476,
           10.40878,
           39.37292,
           107.12042
          ],
          "size": [
           68.85476,
           10.40878,
           39.37292,
           107.12042
          ]
         },
         "text": [
          3442738,
          520439,
          1968646,
          5356021
         ],
         "type": "scattermapbox"
        }
       ],
       "layout": {
        "autosize": true,
        "hovermode": "closest",
        "mapbox": {
         "accesstoken": "pk.eyJ1IjoibGVhZmFyMTk3NyIsImEiOiJjbDlyNzBuY28wMjRoM25vNHNzZDVsZ2x4In0.krumWnuj6VoVCzjgEb5Yrw",
         "bearing": 0,
         "center": {
          "lat": 40.41,
          "lon": -3.7
         },
         "pitch": 0,
         "zoom": 2
        },
        "template": {
         "data": {
          "bar": [
           {
            "error_x": {
             "color": "#2a3f5f"
            },
            "error_y": {
             "color": "#2a3f5f"
            },
            "marker": {
             "line": {
              "color": "#E5ECF6",
              "width": 0.5
             },
             "pattern": {
              "fillmode": "overlay",
              "size": 10,
              "solidity": 0.2
             }
            },
            "type": "bar"
           }
          ],
          "barpolar": [
           {
            "marker": {
             "line": {
              "color": "#E5ECF6",
              "width": 0.5
             },
             "pattern": {
              "fillmode": "overlay",
              "size": 10,
              "solidity": 0.2
             }
            },
            "type": "barpolar"
           }
          ],
          "carpet": [
           {
            "aaxis": {
             "endlinecolor": "#2a3f5f",
             "gridcolor": "white",
             "linecolor": "white",
             "minorgridcolor": "white",
             "startlinecolor": "#2a3f5f"
            },
            "baxis": {
             "endlinecolor": "#2a3f5f",
             "gridcolor": "white",
             "linecolor": "white",
             "minorgridcolor": "white",
             "startlinecolor": "#2a3f5f"
            },
            "type": "carpet"
           }
          ],
          "choropleth": [
           {
            "colorbar": {
             "outlinewidth": 0,
             "ticks": ""
            },
            "type": "choropleth"
           }
          ],
          "contour": [
           {
            "colorbar": {
             "outlinewidth": 0,
             "ticks": ""
            },
            "colorscale": [
             [
              0,
              "#0d0887"
             ],
             [
              0.1111111111111111,
              "#46039f"
             ],
             [
              0.2222222222222222,
              "#7201a8"
             ],
             [
              0.3333333333333333,
              "#9c179e"
             ],
             [
              0.4444444444444444,
              "#bd3786"
             ],
             [
              0.5555555555555556,
              "#d8576b"
             ],
             [
              0.6666666666666666,
              "#ed7953"
             ],
             [
              0.7777777777777778,
              "#fb9f3a"
             ],
             [
              0.8888888888888888,
              "#fdca26"
             ],
             [
              1,
              "#f0f921"
             ]
            ],
            "type": "contour"
           }
          ],
          "contourcarpet": [
           {
            "colorbar": {
             "outlinewidth": 0,
             "ticks": ""
            },
            "type": "contourcarpet"
           }
          ],
          "heatmap": [
           {
            "colorbar": {
             "outlinewidth": 0,
             "ticks": ""
            },
            "colorscale": [
             [
              0,
              "#0d0887"
             ],
             [
              0.1111111111111111,
              "#46039f"
             ],
             [
              0.2222222222222222,
              "#7201a8"
             ],
             [
              0.3333333333333333,
              "#9c179e"
             ],
             [
              0.4444444444444444,
              "#bd3786"
             ],
             [
              0.5555555555555556,
              "#d8576b"
             ],
             [
              0.6666666666666666,
              "#ed7953"
             ],
             [
              0.7777777777777778,
              "#fb9f3a"
             ],
             [
              0.8888888888888888,
              "#fdca26"
             ],
             [
              1,
              "#f0f921"
             ]
            ],
            "type": "heatmap"
           }
          ],
          "heatmapgl": [
           {
            "colorbar": {
             "outlinewidth": 0,
             "ticks": ""
            },
            "colorscale": [
             [
              0,
              "#0d0887"
             ],
             [
              0.1111111111111111,
              "#46039f"
             ],
             [
              0.2222222222222222,
              "#7201a8"
             ],
             [
              0.3333333333333333,
              "#9c179e"
             ],
             [
              0.4444444444444444,
              "#bd3786"
             ],
             [
              0.5555555555555556,
              "#d8576b"
             ],
             [
              0.6666666666666666,
              "#ed7953"
             ],
             [
              0.7777777777777778,
              "#fb9f3a"
             ],
             [
              0.8888888888888888,
              "#fdca26"
             ],
             [
              1,
              "#f0f921"
             ]
            ],
            "type": "heatmapgl"
           }
          ],
          "histogram": [
           {
            "marker": {
             "pattern": {
              "fillmode": "overlay",
              "size": 10,
              "solidity": 0.2
             }
            },
            "type": "histogram"
           }
          ],
          "histogram2d": [
           {
            "colorbar": {
             "outlinewidth": 0,
             "ticks": ""
            },
            "colorscale": [
             [
              0,
              "#0d0887"
             ],
             [
              0.1111111111111111,
              "#46039f"
             ],
             [
              0.2222222222222222,
              "#7201a8"
             ],
             [
              0.3333333333333333,
              "#9c179e"
             ],
             [
              0.4444444444444444,
              "#bd3786"
             ],
             [
              0.5555555555555556,
              "#d8576b"
             ],
             [
              0.6666666666666666,
              "#ed7953"
             ],
             [
              0.7777777777777778,
              "#fb9f3a"
             ],
             [
              0.8888888888888888,
              "#fdca26"
             ],
             [
              1,
              "#f0f921"
             ]
            ],
            "type": "histogram2d"
           }
          ],
          "histogram2dcontour": [
           {
            "colorbar": {
             "outlinewidth": 0,
             "ticks": ""
            },
            "colorscale": [
             [
              0,
              "#0d0887"
             ],
             [
              0.1111111111111111,
              "#46039f"
             ],
             [
              0.2222222222222222,
              "#7201a8"
             ],
             [
              0.3333333333333333,
              "#9c179e"
             ],
             [
              0.4444444444444444,
              "#bd3786"
             ],
             [
              0.5555555555555556,
              "#d8576b"
             ],
             [
              0.6666666666666666,
              "#ed7953"
             ],
             [
              0.7777777777777778,
              "#fb9f3a"
             ],
             [
              0.8888888888888888,
              "#fdca26"
             ],
             [
              1,
              "#f0f921"
             ]
            ],
            "type": "histogram2dcontour"
           }
          ],
          "mesh3d": [
           {
            "colorbar": {
             "outlinewidth": 0,
             "ticks": ""
            },
            "type": "mesh3d"
           }
          ],
          "parcoords": [
           {
            "line": {
             "colorbar": {
              "outlinewidth": 0,
              "ticks": ""
             }
            },
            "type": "parcoords"
           }
          ],
          "pie": [
           {
            "automargin": true,
            "type": "pie"
           }
          ],
          "scatter": [
           {
            "fillpattern": {
             "fillmode": "overlay",
             "size": 10,
             "solidity": 0.2
            },
            "type": "scatter"
           }
          ],
          "scatter3d": [
           {
            "line": {
             "colorbar": {
              "outlinewidth": 0,
              "ticks": ""
             }
            },
            "marker": {
             "colorbar": {
              "outlinewidth": 0,
              "ticks": ""
             }
            },
            "type": "scatter3d"
           }
          ],
          "scattercarpet": [
           {
            "marker": {
             "colorbar": {
              "outlinewidth": 0,
              "ticks": ""
             }
            },
            "type": "scattercarpet"
           }
          ],
          "scattergeo": [
           {
            "marker": {
             "colorbar": {
              "outlinewidth": 0,
              "ticks": ""
             }
            },
            "type": "scattergeo"
           }
          ],
          "scattergl": [
           {
            "marker": {
             "colorbar": {
              "outlinewidth": 0,
              "ticks": ""
             }
            },
            "type": "scattergl"
           }
          ],
          "scattermapbox": [
           {
            "marker": {
             "colorbar": {
              "outlinewidth": 0,
              "ticks": ""
             }
            },
            "type": "scattermapbox"
           }
          ],
          "scatterpolar": [
           {
            "marker": {
             "colorbar": {
              "outlinewidth": 0,
              "ticks": ""
             }
            },
            "type": "scatterpolar"
           }
          ],
          "scatterpolargl": [
           {
            "marker": {
             "colorbar": {
              "outlinewidth": 0,
              "ticks": ""
             }
            },
            "type": "scatterpolargl"
           }
          ],
          "scatterternary": [
           {
            "marker": {
             "colorbar": {
              "outlinewidth": 0,
              "ticks": ""
             }
            },
            "type": "scatterternary"
           }
          ],
          "surface": [
           {
            "colorbar": {
             "outlinewidth": 0,
             "ticks": ""
            },
            "colorscale": [
             [
              0,
              "#0d0887"
             ],
             [
              0.1111111111111111,
              "#46039f"
             ],
             [
              0.2222222222222222,
              "#7201a8"
             ],
             [
              0.3333333333333333,
              "#9c179e"
             ],
             [
              0.4444444444444444,
              "#bd3786"
             ],
             [
              0.5555555555555556,
              "#d8576b"
             ],
             [
              0.6666666666666666,
              "#ed7953"
             ],
             [
              0.7777777777777778,
              "#fb9f3a"
             ],
             [
              0.8888888888888888,
              "#fdca26"
             ],
             [
              1,
              "#f0f921"
             ]
            ],
            "type": "surface"
           }
          ],
          "table": [
           {
            "cells": {
             "fill": {
              "color": "#EBF0F8"
             },
             "line": {
              "color": "white"
             }
            },
            "header": {
             "fill": {
              "color": "#C8D4E3"
             },
             "line": {
              "color": "white"
             }
            },
            "type": "table"
           }
          ]
         },
         "layout": {
          "annotationdefaults": {
           "arrowcolor": "#2a3f5f",
           "arrowhead": 0,
           "arrowwidth": 1
          },
          "autotypenumbers": "strict",
          "coloraxis": {
           "colorbar": {
            "outlinewidth": 0,
            "ticks": ""
           }
          },
          "colorscale": {
           "diverging": [
            [
             0,
             "#8e0152"
            ],
            [
             0.1,
             "#c51b7d"
            ],
            [
             0.2,
             "#de77ae"
            ],
            [
             0.3,
             "#f1b6da"
            ],
            [
             0.4,
             "#fde0ef"
            ],
            [
             0.5,
             "#f7f7f7"
            ],
            [
             0.6,
             "#e6f5d0"
            ],
            [
             0.7,
             "#b8e186"
            ],
            [
             0.8,
             "#7fbc41"
            ],
            [
             0.9,
             "#4d9221"
            ],
            [
             1,
             "#276419"
            ]
           ],
           "sequential": [
            [
             0,
             "#0d0887"
            ],
            [
             0.1111111111111111,
             "#46039f"
            ],
            [
             0.2222222222222222,
             "#7201a8"
            ],
            [
             0.3333333333333333,
             "#9c179e"
            ],
            [
             0.4444444444444444,
             "#bd3786"
            ],
            [
             0.5555555555555556,
             "#d8576b"
            ],
            [
             0.6666666666666666,
             "#ed7953"
            ],
            [
             0.7777777777777778,
             "#fb9f3a"
            ],
            [
             0.8888888888888888,
             "#fdca26"
            ],
            [
             1,
             "#f0f921"
            ]
           ],
           "sequentialminus": [
            [
             0,
             "#0d0887"
            ],
            [
             0.1111111111111111,
             "#46039f"
            ],
            [
             0.2222222222222222,
             "#7201a8"
            ],
            [
             0.3333333333333333,
             "#9c179e"
            ],
            [
             0.4444444444444444,
             "#bd3786"
            ],
            [
             0.5555555555555556,
             "#d8576b"
            ],
            [
             0.6666666666666666,
             "#ed7953"
            ],
            [
             0.7777777777777778,
             "#fb9f3a"
            ],
            [
             0.8888888888888888,
             "#fdca26"
            ],
            [
             1,
             "#f0f921"
            ]
           ]
          },
          "colorway": [
           "#636efa",
           "#EF553B",
           "#00cc96",
           "#ab63fa",
           "#FFA15A",
           "#19d3f3",
           "#FF6692",
           "#B6E880",
           "#FF97FF",
           "#FECB52"
          ],
          "font": {
           "color": "#2a3f5f"
          },
          "geo": {
           "bgcolor": "white",
           "lakecolor": "white",
           "landcolor": "#E5ECF6",
           "showlakes": true,
           "showland": true,
           "subunitcolor": "white"
          },
          "hoverlabel": {
           "align": "left"
          },
          "hovermode": "closest",
          "mapbox": {
           "style": "light"
          },
          "paper_bgcolor": "white",
          "plot_bgcolor": "#E5ECF6",
          "polar": {
           "angularaxis": {
            "gridcolor": "white",
            "linecolor": "white",
            "ticks": ""
           },
           "bgcolor": "#E5ECF6",
           "radialaxis": {
            "gridcolor": "white",
            "linecolor": "white",
            "ticks": ""
           }
          },
          "scene": {
           "xaxis": {
            "backgroundcolor": "#E5ECF6",
            "gridcolor": "white",
            "gridwidth": 2,
            "linecolor": "white",
            "showbackground": true,
            "ticks": "",
            "zerolinecolor": "white"
           },
           "yaxis": {
            "backgroundcolor": "#E5ECF6",
            "gridcolor": "white",
            "gridwidth": 2,
            "linecolor": "white",
            "showbackground": true,
            "ticks": "",
            "zerolinecolor": "white"
           },
           "zaxis": {
            "backgroundcolor": "#E5ECF6",
            "gridcolor": "white",
            "gridwidth": 2,
            "linecolor": "white",
            "showbackground": true,
            "ticks": "",
            "zerolinecolor": "white"
           }
          },
          "shapedefaults": {
           "line": {
            "color": "#2a3f5f"
           }
          },
          "ternary": {
           "aaxis": {
            "gridcolor": "white",
            "linecolor": "white",
            "ticks": ""
           },
           "baxis": {
            "gridcolor": "white",
            "linecolor": "white",
            "ticks": ""
           },
           "bgcolor": "#E5ECF6",
           "caxis": {
            "gridcolor": "white",
            "linecolor": "white",
            "ticks": ""
           }
          },
          "title": {
           "x": 0.05
          },
          "xaxis": {
           "automargin": true,
           "gridcolor": "white",
           "linecolor": "white",
           "ticks": "",
           "title": {
            "standoff": 15
           },
           "zerolinecolor": "white",
           "zerolinewidth": 2
          },
          "yaxis": {
           "automargin": true,
           "gridcolor": "white",
           "linecolor": "white",
           "ticks": "",
           "title": {
            "standoff": 15
           },
           "zerolinecolor": "white",
           "zerolinewidth": 2
          }
         }
        }
       }
      }
     },
     "metadata": {},
     "output_type": "display_data"
    }
   ],
   "source": [
    "#grafico geografico F 3\n",
    "fig_map.update_layout(\n",
    "  autosize = True,\n",
    "  hovermode = 'closest',\n",
    "  mapbox = dict(\n",
    "    accesstoken = token,\n",
    "    bearing = 0,\n",
    "    center = dict(\n",
    "      lat = 40.41,\n",
    "      lon = -3.7\n",
    "    ),\n",
    "    pitch = 0,\n",
    "    zoom = 2\n",
    "  )\n",
    ")"
   ]
  },
  {
   "cell_type": "code",
   "execution_count": 13,
   "metadata": {},
   "outputs": [],
   "source": [
    "#definicion del layout F1\n",
    "app.layout = html.Div([\n",
    "  html.Div([\n",
    "  html.Label('País'),\n",
    "  dcc.Dropdown(\n",
    "    id = 'selector',\n",
    "    options = [{'label':i, 'value':i} for i in df_vts['pais'].unique()],\n",
    "    value = 'Spain'\n",
    "  )\n",
    "  ],\n",
    "    style = {\n",
    "      'width':'48%',\n",
    "      'display':'inline-block'\n",
    "    }\n",
    "  ),\n",
    "  html.Div([\n",
    "    html.Label('Rango Fechas'),\n",
    "    dcc.DatePickerRange(\n",
    "      id = 'selector_date',\n",
    "      start_date = df_vts['fecha'].min(),\n",
    "      end_date = df_vts['fecha'].max()\n",
    "    )\n",
    "  ],\n",
    "    style = {\n",
    "      'width':'48%',\n",
    "      'float':'right',\n",
    "      'display':'inline-block'\n",
    "    }\n",
    "  ),\n",
    "  #grafico (1x3)\n",
    "  html.Div([\n",
    "    dcc.Graph(\n",
    "      id = 'barplot_vts'\n",
    "    )\n",
    "  ],\n",
    "    style = {\n",
    "      'width':'33%',\n",
    "      'float':'left',\n",
    "      'display':'inline-block'\n",
    "    }\n",
    "  ),\n",
    "  html.Div([\n",
    "    dcc.Graph(\n",
    "      id = 'barplot_ben'\n",
    "    )\n",
    "  ],\n",
    "    style = {\n",
    "      'width':'33%',\n",
    "      'float':'center',\n",
    "      'display': 'inline-block'\n",
    "    }\n",
    "  ),\n",
    "  html.Div([\n",
    "    dcc.Graph( \n",
    "    id = 'lineplot_cant'\n",
    "    )\n",
    "  ],\n",
    "    style = {\n",
    "      'width':'33%',\n",
    "      'float':'right',\n",
    "      'display': 'inline-block'\n",
    "    }\n",
    "  ),\n",
    "  #grafico geografico\n",
    "  html.Div([\n",
    "    dcc.Graph(\n",
    "      id = 'map_vts',\n",
    "      figure = fig_map\n",
    "    )\n",
    "  ],\n",
    "    style = {\n",
    "      'width':'100%'\n",
    "    }\n",
    "  )\n",
    "])"
   ]
  },
  {
   "cell_type": "code",
   "execution_count": null,
   "metadata": {},
   "outputs": [],
   "source": [
    "@app.callback(\n",
    "  Output('barplot_vts', 'figure'),\n",
    "  [\n",
    "    Input('selector_date', 'start_date'),\n",
    "    Input('selector_date', 'end_date'),\n",
    "    Input('selector', 'value')\n",
    "    ]\n",
    "  )\n",
    "def actualizar_graph_seg(fecha_min, fecha_max, seleccion):\n",
    "  \n",
    "    filtered_df = df_vts[(df_vts[\"fecha\"]>=fecha_min) & (df_vts[\"fecha\"]<=fecha_max) & (df_vts[\"pais\"]==seleccion)]\n",
    "\n",
    "# FASE 2: CREACIÓN DE GRÁFICOS Y GROUPBY\n",
    "    df_agrupado = filtered_df.groupby(\"seg\")[\"imp\"].agg(\"sum\").to_frame(name = \"Ingresos\").reset_index()\n",
    "\n",
    "    return{\n",
    "        'data': [go.Bar(x=df_agrupado[\"seg\"],\n",
    "                            y=df_agrupado[\"Ingresos\"]\n",
    "                            )],\n",
    "        'layout': go.Layout(\n",
    "            title=\"¿Cuáles han sido las ventas en cada segmento de clientes?\",\n",
    "            xaxis={'title': \"Segmento\"},\n",
    "            yaxis={'title': \"Ingresos totales\"},\n",
    "            hovermode='closest'\n",
    "        )}\n"
   ]
  },
  {
   "cell_type": "code",
   "execution_count": null,
   "metadata": {},
   "outputs": [],
   "source": [
    "#decoradores para interactividad F 5\n",
    "@app.callback(\n",
    "  Output('barplot_ben','figure'),\n",
    "  [\n",
    "    Input('selector_date','start_date'),\n",
    "    Input('selector_date','end_date'),\n",
    "    Input('selector','value'),\n",
    "    Input('barplot_vts', 'hoverData')\n",
    "  ]\n",
    ")#funciones de interactivdad F. 4\n",
    "def actualizar_graph(fmin, fmax, select, hoverdata):\n",
    "  v_index = hoverdata['points'][0]['x']\n",
    "  filtro = df_vts[(df_vts['fecha']>=fmin)&(df_vts['fecha']<=fmax)&(df_vts['pais']== select) & (df_vts['seg'] == v_index)]\n",
    "\n",
    "  #Creacion de graficos 2 y groupby F.2\n",
    "  df_group = filtro.groupby('cat')['ben'].agg('sum').to_frame('ben').reset_index()\n",
    "\n",
    "  return {\n",
    "    'data':[go.Bar(\n",
    "      x = df_group['cat'],\n",
    "      y = df_group['ben']\n",
    "    )],\n",
    "    'layout': go.Layout(\n",
    "      title = '¿Cuales han sido los beneficios por categoria?',\n",
    "      xaxis = {'title':'Categoría'},\n",
    "      yaxis = {'title':'Beneficos Totales'},\n",
    "      hovermode = 'closest'\n",
    "    )\n",
    "  }"
   ]
  },
  {
   "cell_type": "code",
   "execution_count": null,
   "metadata": {},
   "outputs": [],
   "source": [
    "#decoradores para interactividad F 5\n",
    "@app.callback(\n",
    "  Output('lineplot_cant','figure'),\n",
    "  [\n",
    "    Input('selector_date','start_date'),\n",
    "    Input('selector_date','end_date'),\n",
    "    Input('selector','value'),\n",
    "    Input('barplot_vts','hoverData')\n",
    "  ]\n",
    ")\n",
    "def actualizar_graph(fmin, fmax, select, hoverdata):\n",
    "  v_index = hoverdata['points'][0]['x']\n",
    "  filtro = df_vts[(df_vts['fecha']>=fmin) & (df_vts['fecha']<=fmax) & (df_vts['pais']== select) & (df_vts['seg'] == v_index)]\n",
    "\n",
    "\n",
    "  #Creacion de graficos 3 y groupby F.2\n",
    "  df_group = filtro.groupby('fecha')['cant'].agg('sum').to_frame(name = 'cant').reset_index()\n",
    "\n",
    "  return {\n",
    "    'data': [go.Scatter(\n",
    "      x = df_group['fecha'],\n",
    "      y = df_group['cant'],\n",
    "      mode = 'lines+markers'\n",
    "    )],\n",
    "    'layout': go.Layout(\n",
    "      title = 'Cual es la evolución de la cantidad de pedidos solicitados?',\n",
    "      xaxis = {'title':'Fecha'},\n",
    "      yaxis = {'title':'Cantidad'},\n",
    "      hovermode = 'closest'\n",
    "    )\n",
    "  }"
   ]
  },
  {
   "cell_type": "code",
   "execution_count": null,
   "metadata": {},
   "outputs": [],
   "source": [
    "if __name__ == '__main__':\n",
    "    app.run_server(port=7200)"
   ]
  }
 ],
 "metadata": {
  "kernelspec": {
   "display_name": "Python 3.9.12 ('base')",
   "language": "python",
   "name": "python3"
  },
  "language_info": {
   "codemirror_mode": {
    "name": "ipython",
    "version": 3
   },
   "file_extension": ".py",
   "mimetype": "text/x-python",
   "name": "python",
   "nbconvert_exporter": "python",
   "pygments_lexer": "ipython3",
   "version": "3.9.12"
  },
  "orig_nbformat": 4,
  "vscode": {
   "interpreter": {
    "hash": "ad2bdc8ecc057115af97d19610ffacc2b4e99fae6737bb82f5d7fb13d2f2c186"
   }
  }
 },
 "nbformat": 4,
 "nbformat_minor": 2
}
