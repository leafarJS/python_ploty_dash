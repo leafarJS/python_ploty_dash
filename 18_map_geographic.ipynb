{
 "cells": [
  {
   "cell_type": "code",
   "execution_count": null,
   "metadata": {},
   "outputs": [],
   "source": [
    "import plotly.offline as pyo\n",
    "import plotly.graph_objs as go \n",
    "import pandas as pd "
   ]
  },
  {
   "cell_type": "code",
   "execution_count": null,
   "metadata": {},
   "outputs": [],
   "source": [
    "#cargar base de datos \n",
    "df_geo = pd.read_excel(r'./database/Peatones_prom_coord.xlsx')"
   ]
  },
  {
   "cell_type": "code",
   "execution_count": null,
   "metadata": {},
   "outputs": [],
   "source": [
    "#analisis de datos \n",
    "df_geo.head()"
   ]
  },
  {
   "cell_type": "code",
   "execution_count": null,
   "metadata": {},
   "outputs": [],
   "source": [
    "token =\"pk.eyJ1IjoibGVhZmFyMTk3NyIsImEiOiJjbDlyNzBuY28wMjRoM25vNHNzZDVsZ2x4In0.krumWnuj6VoVCzjgEb5Yrw\""
   ]
  },
  {
   "cell_type": "code",
   "execution_count": null,
   "metadata": {},
   "outputs": [],
   "source": [
    "#crear directamente la figura \n",
    "fig = go.Figure(\n",
    "  go.Scattermapbox(\n",
    "    lon = df_geo['long'],\n",
    "    lat = df_geo['lat'], \n",
    "    mode = 'markers', \n",
    "    marker = go.scattermapbox.Marker(\n",
    "      size = df_geo['peaton_prom']/10,\n",
    "      color = df_geo['peaton_prom']\n",
    "    )\n",
    "  )\n",
    ")"
   ]
  },
  {
   "cell_type": "code",
   "execution_count": null,
   "metadata": {},
   "outputs": [],
   "source": [
    "#actulizar la propiedad layout \n",
    "fig.update_layout(\n",
    "  autosize = True, \n",
    "  hovermode = \"closest\", \n",
    "  mapbox = dict(\n",
    "    accesstoken = token, \n",
    "    center = dict(\n",
    "      lat = 40.41, # coord iniciales\n",
    "      lon = -3.7 #coord iniciales\n",
    "    ), \n",
    "    zoom = 12\n",
    "  )\n",
    ")"
   ]
  },
  {
   "cell_type": "code",
   "execution_count": null,
   "metadata": {},
   "outputs": [],
   "source": [
    "#insertar el grafico en un archivo html \n",
    "pyo.plot(fig, filename ='index.html')"
   ]
  }
 ],
 "metadata": {
  "kernelspec": {
   "display_name": "Python 3.9.12 ('base')",
   "language": "python",
   "name": "python3"
  },
  "language_info": {
   "codemirror_mode": {
    "name": "ipython",
    "version": 3
   },
   "file_extension": ".py",
   "mimetype": "text/x-python",
   "name": "python",
   "nbconvert_exporter": "python",
   "pygments_lexer": "ipython3",
   "version": "3.9.12"
  },
  "orig_nbformat": 4,
  "vscode": {
   "interpreter": {
    "hash": "ad2bdc8ecc057115af97d19610ffacc2b4e99fae6737bb82f5d7fb13d2f2c186"
   }
  }
 },
 "nbformat": 4,
 "nbformat_minor": 2
}
