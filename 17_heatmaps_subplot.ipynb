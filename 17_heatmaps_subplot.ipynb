{
 "cells": [
  {
   "cell_type": "code",
   "execution_count": null,
   "metadata": {},
   "outputs": [],
   "source": [
    "import plotly.offline as pyo\n",
    "import plotly.graph_objs as go\n",
    "from plotly import subplots \n",
    "import pandas as pd "
   ]
  },
  {
   "cell_type": "code",
   "execution_count": null,
   "metadata": {},
   "outputs": [],
   "source": [
    "#cargamos la data\n",
    "df_temp = pd.read_csv(r'./database/Temperatura_horaria.csv', encoding='ISO-8859-1', delimiter=';')"
   ]
  },
  {
   "cell_type": "code",
   "execution_count": null,
   "metadata": {},
   "outputs": [],
   "source": [
    "#revisión de la data\n",
    "df_temp.head()"
   ]
  },
  {
   "cell_type": "code",
   "execution_count": null,
   "metadata": {},
   "outputs": [],
   "source": [
    "df_temp.dtypes"
   ]
  },
  {
   "cell_type": "code",
   "execution_count": null,
   "metadata": {},
   "outputs": [],
   "source": [
    "#crear subplot \n",
    "trace_1 = go.Heatmap(\n",
    "  x = df_temp[\"Día\"],\n",
    "  y = df_temp[\"Hora\"],\n",
    "  z = df_temp[\"T_prom\"].values.tolist() \n",
    ")\n",
    "trace_2 = go.Heatmap(\n",
    "  x = df_temp[\"Día\"],\n",
    "  y = df_temp[\"Hora\"],\n",
    "  z = df_temp[\"T_prom\"].values.tolist(),\n",
    "  colorscale = \"Jet\" \n",
    ")"
   ]
  },
  {
   "cell_type": "code",
   "execution_count": null,
   "metadata": {},
   "outputs": [],
   "source": [
    "#creacion de subplots con 1 fila y 2 columnas\n",
    "fig = subplots.make_subplots(\n",
    "  rows = 1,\n",
    "  cols = 2,\n",
    "  subplot_titles= [\"Normal\", \"Jet\"], \n",
    "  shared_yaxes= False  \n",
    ")"
   ]
  },
  {
   "cell_type": "code",
   "execution_count": null,
   "metadata": {},
   "outputs": [],
   "source": [
    "#adicionar a figura los trazos creados \n",
    "fig.append_trace(trace_1, 1,1)\n",
    "fig.append_trace(trace_2, 1,2)"
   ]
  },
  {
   "cell_type": "code",
   "execution_count": null,
   "metadata": {},
   "outputs": [],
   "source": [
    "#generar los graficos en un archivo html \n",
    "pyo.plot(fig, filename = \"index.html\")"
   ]
  }
 ],
 "metadata": {
  "kernelspec": {
   "display_name": "Python 3.9.12 ('base')",
   "language": "python",
   "name": "python3"
  },
  "language_info": {
   "codemirror_mode": {
    "name": "ipython",
    "version": 3
   },
   "file_extension": ".py",
   "mimetype": "text/x-python",
   "name": "python",
   "nbconvert_exporter": "python",
   "pygments_lexer": "ipython3",
   "version": "3.9.12"
  },
  "orig_nbformat": 4,
  "vscode": {
   "interpreter": {
    "hash": "ad2bdc8ecc057115af97d19610ffacc2b4e99fae6737bb82f5d7fb13d2f2c186"
   }
  }
 },
 "nbformat": 4,
 "nbformat_minor": 2
}
