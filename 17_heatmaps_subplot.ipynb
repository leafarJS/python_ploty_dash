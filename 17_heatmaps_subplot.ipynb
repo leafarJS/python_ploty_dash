{
 "cells": [
  {
   "cell_type": "code",
   "execution_count": 1,
   "metadata": {},
   "outputs": [],
   "source": [
    "import plotly.offline as pyo\n",
    "import plotly.graph_objs as go\n",
    "from plotly import subplots \n",
    "import pandas as pd "
   ]
  },
  {
   "cell_type": "code",
   "execution_count": 2,
   "metadata": {},
   "outputs": [],
   "source": [
    "#cargamos la data\n",
    "df_temp = pd.read_csv(r'./database/Temperatura_horaria.csv', encoding='ISO-8859-1', delimiter=';')"
   ]
  },
  {
   "cell_type": "code",
   "execution_count": 3,
   "metadata": {},
   "outputs": [
    {
     "data": {
      "text/html": [
       "<div>\n",
       "<style scoped>\n",
       "    .dataframe tbody tr th:only-of-type {\n",
       "        vertical-align: middle;\n",
       "    }\n",
       "\n",
       "    .dataframe tbody tr th {\n",
       "        vertical-align: top;\n",
       "    }\n",
       "\n",
       "    .dataframe thead th {\n",
       "        text-align: right;\n",
       "    }\n",
       "</style>\n",
       "<table border=\"1\" class=\"dataframe\">\n",
       "  <thead>\n",
       "    <tr style=\"text-align: right;\">\n",
       "      <th></th>\n",
       "      <th>Fecha</th>\n",
       "      <th>Día</th>\n",
       "      <th>Hora</th>\n",
       "      <th>T_prom</th>\n",
       "    </tr>\n",
       "  </thead>\n",
       "  <tbody>\n",
       "    <tr>\n",
       "      <th>0</th>\n",
       "      <td>2019-06-15T00:00:00</td>\n",
       "      <td>Lunes</td>\n",
       "      <td>0:00:00</td>\n",
       "      <td>12.8</td>\n",
       "    </tr>\n",
       "    <tr>\n",
       "      <th>1</th>\n",
       "      <td>2019-06-15T01:00:00</td>\n",
       "      <td>Lunes</td>\n",
       "      <td>1:00:00</td>\n",
       "      <td>12.5</td>\n",
       "    </tr>\n",
       "    <tr>\n",
       "      <th>2</th>\n",
       "      <td>2019-06-15T02:00:00</td>\n",
       "      <td>Lunes</td>\n",
       "      <td>2:00:00</td>\n",
       "      <td>12.6</td>\n",
       "    </tr>\n",
       "    <tr>\n",
       "      <th>3</th>\n",
       "      <td>2019-06-15T03:00:00</td>\n",
       "      <td>Lunes</td>\n",
       "      <td>3:00:00</td>\n",
       "      <td>12.1</td>\n",
       "    </tr>\n",
       "    <tr>\n",
       "      <th>4</th>\n",
       "      <td>2019-06-15T04:00:00</td>\n",
       "      <td>Lunes</td>\n",
       "      <td>4:00:00</td>\n",
       "      <td>12.2</td>\n",
       "    </tr>\n",
       "  </tbody>\n",
       "</table>\n",
       "</div>"
      ],
      "text/plain": [
       "                 Fecha    Día     Hora  T_prom\n",
       "0  2019-06-15T00:00:00  Lunes  0:00:00    12.8\n",
       "1  2019-06-15T01:00:00  Lunes  1:00:00    12.5\n",
       "2  2019-06-15T02:00:00  Lunes  2:00:00    12.6\n",
       "3  2019-06-15T03:00:00  Lunes  3:00:00    12.1\n",
       "4  2019-06-15T04:00:00  Lunes  4:00:00    12.2"
      ]
     },
     "execution_count": 3,
     "metadata": {},
     "output_type": "execute_result"
    }
   ],
   "source": [
    "#revisión de la data\n",
    "df_temp.head()"
   ]
  },
  {
   "cell_type": "code",
   "execution_count": 4,
   "metadata": {},
   "outputs": [
    {
     "data": {
      "text/plain": [
       "Fecha      object\n",
       "Día        object\n",
       "Hora       object\n",
       "T_prom    float64\n",
       "dtype: object"
      ]
     },
     "execution_count": 4,
     "metadata": {},
     "output_type": "execute_result"
    }
   ],
   "source": [
    "df_temp.dtypes"
   ]
  },
  {
   "cell_type": "code",
   "execution_count": 5,
   "metadata": {},
   "outputs": [],
   "source": [
    "#crear subplot \n",
    "trace_1 = go.Heatmap(\n",
    "  x = df_temp[\"Día\"],\n",
    "  y = df_temp[\"Hora\"],\n",
    "  z = df_temp[\"T_prom\"].values.tolist() \n",
    ")\n",
    "trace_2 = go.Heatmap(\n",
    "  x = df_temp[\"Día\"],\n",
    "  y = df_temp[\"Hora\"],\n",
    "  z = df_temp[\"T_prom\"].values.tolist(),\n",
    "  colorscale = \"Jet\" \n",
    ")"
   ]
  },
  {
   "cell_type": "code",
   "execution_count": 6,
   "metadata": {},
   "outputs": [],
   "source": [
    "#creacion de subplots con 1 fila y 2 columnas\n",
    "fig = subplots.make_subplots(\n",
    "  rows = 1,\n",
    "  cols = 2,\n",
    "  subplot_titles= [\"Normal\", \"Jet\"], \n",
    "  shared_yaxes= False  \n",
    ")"
   ]
  },
  {
   "cell_type": "code",
   "execution_count": 7,
   "metadata": {},
   "outputs": [],
   "source": [
    "#adicionar a figura los trazos creados \n",
    "fig.append_trace(trace_1, 1,1)\n",
    "fig.append_trace(trace_2, 1,2)"
   ]
  },
  {
   "cell_type": "code",
   "execution_count": 8,
   "metadata": {},
   "outputs": [
    {
     "data": {
      "text/plain": [
       "'index.html'"
      ]
     },
     "execution_count": 8,
     "metadata": {},
     "output_type": "execute_result"
    }
   ],
   "source": [
    "#generar los graficos en un archivo html \n",
    "pyo.plot(fig, filename = \"index.html\")"
   ]
  }
 ],
 "metadata": {
  "kernelspec": {
   "display_name": "Python 3.9.12 ('base')",
   "language": "python",
   "name": "python3"
  },
  "language_info": {
   "codemirror_mode": {
    "name": "ipython",
    "version": 3
   },
   "file_extension": ".py",
   "mimetype": "text/x-python",
   "name": "python",
   "nbconvert_exporter": "python",
   "pygments_lexer": "ipython3",
   "version": "3.9.12"
  },
  "orig_nbformat": 4,
  "vscode": {
   "interpreter": {
    "hash": "ad2bdc8ecc057115af97d19610ffacc2b4e99fae6737bb82f5d7fb13d2f2c186"
   }
  }
 },
 "nbformat": 4,
 "nbformat_minor": 2
}
