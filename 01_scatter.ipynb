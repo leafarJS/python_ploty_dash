{
 "cells": [
  {
   "cell_type": "code",
   "execution_count": 1,
   "metadata": {},
   "outputs": [],
   "source": [
    "import plotly.offline as pyo\n",
    "import plotly.graph_objs as go\n",
    "import pandas as pd"
   ]
  },
  {
   "cell_type": "code",
   "execution_count": 2,
   "metadata": {},
   "outputs": [],
   "source": [
    "df_iris = pd.read_csv(r'./database/iris_dataset.csv', encoding = 'ISO-8859-1', delimiter = ',')"
   ]
  },
  {
   "cell_type": "code",
   "execution_count": 3,
   "metadata": {},
   "outputs": [
    {
     "name": "stdout",
     "output_type": "stream",
     "text": [
      "   longitud_sépalo  anchura_sépalo  longitud_pétalo  anchura_pétalo  \\\n",
      "0              5.1             3.5              1.4             0.2   \n",
      "1              4.9             3.0              1.4             0.2   \n",
      "2              4.7             3.2              1.3             0.2   \n",
      "3              4.6             3.1              1.5             0.2   \n",
      "4              5.0             3.6              1.4             0.2   \n",
      "\n",
      "         clase  \n",
      "0  Iris-setosa  \n",
      "1  Iris-setosa  \n",
      "2  Iris-setosa  \n",
      "3  Iris-setosa  \n",
      "4  Iris-setosa  \n",
      "Index(['longitud_sépalo', 'anchura_sépalo', 'longitud_pétalo',\n",
      "       'anchura_pétalo', 'clase'],\n",
      "      dtype='object')\n",
      "   log_sep  ach_sep  log_pet  ach_pet        clase\n",
      "0      5.1      3.5      1.4      0.2  Iris-setosa\n",
      "1      4.9      3.0      1.4      0.2  Iris-setosa\n",
      "2      4.7      3.2      1.3      0.2  Iris-setosa\n",
      "3      4.6      3.1      1.5      0.2  Iris-setosa\n",
      "4      5.0      3.6      1.4      0.2  Iris-setosa\n",
      "log_sep    float64\n",
      "ach_sep    float64\n",
      "log_pet    float64\n",
      "ach_pet    float64\n",
      "clase       object\n",
      "dtype: object\n"
     ]
    }
   ],
   "source": [
    "print(df_iris.head())\n",
    "print(df_iris.columns)\n",
    "df_iris.columns = ['log_sep', 'ach_sep', 'log_pet', 'ach_pet', 'clase']\n",
    "print(df_iris.head())\n",
    "print(df_iris.dtypes)"
   ]
  },
  {
   "cell_type": "code",
   "execution_count": 4,
   "metadata": {},
   "outputs": [],
   "source": [
    "data = [go.Scatter(x = df_iris['log_sep'], \n",
    "y = df_iris['ach_sep'], \n",
    "mode = 'markers')]"
   ]
  },
  {
   "cell_type": "code",
   "execution_count": 5,
   "metadata": {},
   "outputs": [],
   "source": [
    "layout = go.Layout(title = \"Iris Scatter Plot\", xaxis = dict(title='Longitud Sépalo'), yaxis = dict(title='Anchura Sépalo'))"
   ]
  },
  {
   "cell_type": "code",
   "execution_count": 6,
   "metadata": {},
   "outputs": [],
   "source": [
    "fig = go.Figure(data = data, layout = layout)"
   ]
  },
  {
   "cell_type": "code",
   "execution_count": 7,
   "metadata": {},
   "outputs": [
    {
     "data": {
      "text/plain": [
       "'plot_iris.html'"
      ]
     },
     "execution_count": 7,
     "metadata": {},
     "output_type": "execute_result"
    }
   ],
   "source": [
    "pyo.plot(fig, filename=\"plot_iris.html\")"
   ]
  }
 ],
 "metadata": {
  "kernelspec": {
   "display_name": "Python 3.9.12 ('base')",
   "language": "python",
   "name": "python3"
  },
  "language_info": {
   "codemirror_mode": {
    "name": "ipython",
    "version": 3
   },
   "file_extension": ".py",
   "mimetype": "text/x-python",
   "name": "python",
   "nbconvert_exporter": "python",
   "pygments_lexer": "ipython3",
   "version": "3.9.12"
  },
  "orig_nbformat": 4,
  "vscode": {
   "interpreter": {
    "hash": "ad2bdc8ecc057115af97d19610ffacc2b4e99fae6737bb82f5d7fb13d2f2c186"
   }
  }
 },
 "nbformat": 4,
 "nbformat_minor": 2
}
