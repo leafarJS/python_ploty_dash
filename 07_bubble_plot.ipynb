{
 "cells": [
  {
   "cell_type": "code",
   "execution_count": 16,
   "metadata": {},
   "outputs": [],
   "source": [
    "import plotly.offline as pyo\n",
    "import plotly.graph_objs as go\n",
    "import pandas as pd\n"
   ]
  },
  {
   "cell_type": "code",
   "execution_count": 17,
   "metadata": {},
   "outputs": [],
   "source": [
    "# cargar los datos\n",
    "df_pib = pd.read_excel(r'./database/info_pais.xlsx')"
   ]
  },
  {
   "cell_type": "code",
   "execution_count": 18,
   "metadata": {},
   "outputs": [
    {
     "data": {
      "text/html": [
       "<div>\n",
       "<style scoped>\n",
       "    .dataframe tbody tr th:only-of-type {\n",
       "        vertical-align: middle;\n",
       "    }\n",
       "\n",
       "    .dataframe tbody tr th {\n",
       "        vertical-align: top;\n",
       "    }\n",
       "\n",
       "    .dataframe thead th {\n",
       "        text-align: right;\n",
       "    }\n",
       "</style>\n",
       "<table border=\"1\" class=\"dataframe\">\n",
       "  <thead>\n",
       "    <tr style=\"text-align: right;\">\n",
       "      <th></th>\n",
       "      <th>País</th>\n",
       "      <th>Continente</th>\n",
       "      <th>Poblacion</th>\n",
       "      <th>Renta per capita</th>\n",
       "      <th>Esperanza de vida</th>\n",
       "    </tr>\n",
       "  </thead>\n",
       "  <tbody>\n",
       "    <tr>\n",
       "      <th>0</th>\n",
       "      <td>United States</td>\n",
       "      <td>North America</td>\n",
       "      <td>325084756</td>\n",
       "      <td>59939</td>\n",
       "      <td>78.9</td>\n",
       "    </tr>\n",
       "    <tr>\n",
       "      <th>1</th>\n",
       "      <td>China</td>\n",
       "      <td>Asia</td>\n",
       "      <td>1421021791</td>\n",
       "      <td>8612</td>\n",
       "      <td>76.7</td>\n",
       "    </tr>\n",
       "    <tr>\n",
       "      <th>2</th>\n",
       "      <td>Japan</td>\n",
       "      <td>Asia</td>\n",
       "      <td>127502725</td>\n",
       "      <td>38214</td>\n",
       "      <td>84.5</td>\n",
       "    </tr>\n",
       "    <tr>\n",
       "      <th>3</th>\n",
       "      <td>Germany</td>\n",
       "      <td>Europe</td>\n",
       "      <td>82658409</td>\n",
       "      <td>44680</td>\n",
       "      <td>81.2</td>\n",
       "    </tr>\n",
       "    <tr>\n",
       "      <th>4</th>\n",
       "      <td>India</td>\n",
       "      <td>Asia</td>\n",
       "      <td>1338676785</td>\n",
       "      <td>1980</td>\n",
       "      <td>69.4</td>\n",
       "    </tr>\n",
       "  </tbody>\n",
       "</table>\n",
       "</div>"
      ],
      "text/plain": [
       "            País     Continente   Poblacion  Renta per capita  \\\n",
       "0  United States  North America   325084756             59939   \n",
       "1          China           Asia  1421021791              8612   \n",
       "2          Japan           Asia   127502725             38214   \n",
       "3        Germany         Europe    82658409             44680   \n",
       "4          India           Asia  1338676785              1980   \n",
       "\n",
       "   Esperanza de vida  \n",
       "0               78.9  \n",
       "1               76.7  \n",
       "2               84.5  \n",
       "3               81.2  \n",
       "4               69.4  "
      ]
     },
     "execution_count": 18,
     "metadata": {},
     "output_type": "execute_result"
    }
   ],
   "source": [
    "#revisión datos \n",
    "df_pib.head()"
   ]
  },
  {
   "cell_type": "code",
   "execution_count": 19,
   "metadata": {},
   "outputs": [],
   "source": [
    "#definimos un diccionario para sociar cada continente - clave y un color como valor \n",
    "color = {\n",
    "  \"North America\":\"red\", \n",
    "  \"Asia\":\"yellow\", \n",
    "  \"Europe\":\"green\", \n",
    "  \"South America\":\"blue\",\n",
    "  \"Oceania\":\"orange\", \n",
    "  \"Africa\":\"violet\"\n",
    "}"
   ]
  },
  {
   "cell_type": "code",
   "execution_count": 20,
   "metadata": {},
   "outputs": [],
   "source": [
    "#creamos una nueva columna a partir del diccionario\n",
    "df_pib[\"Color\"] = df_pib[\"Continente\"].map(color)"
   ]
  },
  {
   "cell_type": "code",
   "execution_count": 21,
   "metadata": {},
   "outputs": [
    {
     "data": {
      "text/html": [
       "<div>\n",
       "<style scoped>\n",
       "    .dataframe tbody tr th:only-of-type {\n",
       "        vertical-align: middle;\n",
       "    }\n",
       "\n",
       "    .dataframe tbody tr th {\n",
       "        vertical-align: top;\n",
       "    }\n",
       "\n",
       "    .dataframe thead th {\n",
       "        text-align: right;\n",
       "    }\n",
       "</style>\n",
       "<table border=\"1\" class=\"dataframe\">\n",
       "  <thead>\n",
       "    <tr style=\"text-align: right;\">\n",
       "      <th></th>\n",
       "      <th>País</th>\n",
       "      <th>Continente</th>\n",
       "      <th>Poblacion</th>\n",
       "      <th>Renta per capita</th>\n",
       "      <th>Esperanza de vida</th>\n",
       "      <th>Color</th>\n",
       "    </tr>\n",
       "  </thead>\n",
       "  <tbody>\n",
       "    <tr>\n",
       "      <th>0</th>\n",
       "      <td>United States</td>\n",
       "      <td>North America</td>\n",
       "      <td>325084756</td>\n",
       "      <td>59939</td>\n",
       "      <td>78.9</td>\n",
       "      <td>red</td>\n",
       "    </tr>\n",
       "    <tr>\n",
       "      <th>1</th>\n",
       "      <td>China</td>\n",
       "      <td>Asia</td>\n",
       "      <td>1421021791</td>\n",
       "      <td>8612</td>\n",
       "      <td>76.7</td>\n",
       "      <td>yellow</td>\n",
       "    </tr>\n",
       "    <tr>\n",
       "      <th>2</th>\n",
       "      <td>Japan</td>\n",
       "      <td>Asia</td>\n",
       "      <td>127502725</td>\n",
       "      <td>38214</td>\n",
       "      <td>84.5</td>\n",
       "      <td>yellow</td>\n",
       "    </tr>\n",
       "    <tr>\n",
       "      <th>3</th>\n",
       "      <td>Germany</td>\n",
       "      <td>Europe</td>\n",
       "      <td>82658409</td>\n",
       "      <td>44680</td>\n",
       "      <td>81.2</td>\n",
       "      <td>green</td>\n",
       "    </tr>\n",
       "    <tr>\n",
       "      <th>4</th>\n",
       "      <td>India</td>\n",
       "      <td>Asia</td>\n",
       "      <td>1338676785</td>\n",
       "      <td>1980</td>\n",
       "      <td>69.4</td>\n",
       "      <td>yellow</td>\n",
       "    </tr>\n",
       "  </tbody>\n",
       "</table>\n",
       "</div>"
      ],
      "text/plain": [
       "            País     Continente   Poblacion  Renta per capita  \\\n",
       "0  United States  North America   325084756             59939   \n",
       "1          China           Asia  1421021791              8612   \n",
       "2          Japan           Asia   127502725             38214   \n",
       "3        Germany         Europe    82658409             44680   \n",
       "4          India           Asia  1338676785              1980   \n",
       "\n",
       "   Esperanza de vida   Color  \n",
       "0               78.9     red  \n",
       "1               76.7  yellow  \n",
       "2               84.5  yellow  \n",
       "3               81.2   green  \n",
       "4               69.4  yellow  "
      ]
     },
     "execution_count": 21,
     "metadata": {},
     "output_type": "execute_result"
    }
   ],
   "source": [
    "df_pib.head()"
   ]
  },
  {
   "cell_type": "code",
   "execution_count": 22,
   "metadata": {},
   "outputs": [],
   "source": [
    "#crear el objeto data \n",
    "data = [go.Scatter(\n",
    "  x = df_pib[\"Renta per capita\"],\n",
    "  y = df_pib[\"Esperanza de vida\"], \n",
    "  mode = \"markers\", \n",
    "  text = df_pib[\"País\"],\n",
    "  marker = dict(\n",
    "    size = (df_pib[\"Poblacion\"])/5000000,\n",
    "    color = df_pib[\"Color\"]\n",
    "  )\n",
    ")]"
   ]
  },
  {
   "cell_type": "code",
   "execution_count": 23,
   "metadata": {},
   "outputs": [],
   "source": [
    "#creamos el layout \n",
    "layout = go.Layout(\n",
    "  title = \"Renta per Capita vs. Esperanza de Vida\", \n",
    "  xaxis = {\"title\": \"Renta per Capita\"},\n",
    "  yaxis = {\"title\": \"Esperanza de vida\"}\n",
    ")"
   ]
  },
  {
   "cell_type": "code",
   "execution_count": 24,
   "metadata": {},
   "outputs": [],
   "source": [
    "#cargamos a la figura la data y el layout\n",
    "fig = go.Figure(data=data, layout=layout)"
   ]
  },
  {
   "cell_type": "code",
   "execution_count": 25,
   "metadata": {},
   "outputs": [
    {
     "data": {
      "text/plain": [
       "'index.html'"
      ]
     },
     "execution_count": 25,
     "metadata": {},
     "output_type": "execute_result"
    }
   ],
   "source": [
    "#creamos el archivo html con el grafico \n",
    "pyo.plot(fig, filename = \"index.html\")"
   ]
  }
 ],
 "metadata": {
  "kernelspec": {
   "display_name": "Python 3.9.12 ('base')",
   "language": "python",
   "name": "python3"
  },
  "language_info": {
   "codemirror_mode": {
    "name": "ipython",
    "version": 3
   },
   "file_extension": ".py",
   "mimetype": "text/x-python",
   "name": "python",
   "nbconvert_exporter": "python",
   "pygments_lexer": "ipython3",
   "version": "3.9.12"
  },
  "orig_nbformat": 4,
  "vscode": {
   "interpreter": {
    "hash": "ad2bdc8ecc057115af97d19610ffacc2b4e99fae6737bb82f5d7fb13d2f2c186"
   }
  }
 },
 "nbformat": 4,
 "nbformat_minor": 2
}
