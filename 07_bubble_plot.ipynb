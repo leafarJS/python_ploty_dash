{
 "cells": [
  {
   "cell_type": "code",
   "execution_count": null,
   "metadata": {},
   "outputs": [],
   "source": [
    "import plotly.offline as pyo\n",
    "import plotly.graph_objs as go\n",
    "import pandas as pd\n"
   ]
  },
  {
   "cell_type": "code",
   "execution_count": null,
   "metadata": {},
   "outputs": [],
   "source": [
    "# cargar los datos\n",
    "df_pib = pd.read_excel(r'./database/info_pais.xlsx')"
   ]
  },
  {
   "cell_type": "code",
   "execution_count": null,
   "metadata": {},
   "outputs": [],
   "source": [
    "#revisión datos \n",
    "df_pib.head()"
   ]
  },
  {
   "cell_type": "code",
   "execution_count": null,
   "metadata": {},
   "outputs": [],
   "source": [
    "#definimos un diccionario para sociar cada continente - clave y un color como valor \n",
    "color = {\n",
    "  \"North America\":\"red\", \n",
    "  \"Asia\":\"yellow\", \n",
    "  \"Europe\":\"green\", \n",
    "  \"South America\":\"blue\",\n",
    "  \"Oceania\":\"orange\", \n",
    "  \"Africa\":\"violet\"\n",
    "}"
   ]
  },
  {
   "cell_type": "code",
   "execution_count": null,
   "metadata": {},
   "outputs": [],
   "source": [
    "#creamos una nueva columna a partir del diccionario\n",
    "df_pib[\"Color\"] = df_pib[\"Continente\"].map(color)"
   ]
  },
  {
   "cell_type": "code",
   "execution_count": null,
   "metadata": {},
   "outputs": [],
   "source": [
    "df_pib.head()"
   ]
  },
  {
   "cell_type": "code",
   "execution_count": null,
   "metadata": {},
   "outputs": [],
   "source": [
    "#crear el objeto data \n",
    "data = [go.Scatter(\n",
    "  x = df_pib[\"Renta per capita\"],\n",
    "  y = df_pib[\"Esperanza de vida\"], \n",
    "  mode = \"markers\", \n",
    "  text = df_pib[\"País\"],\n",
    "  marker = dict(\n",
    "    size = (df_pib[\"Poblacion\"])/5000000,\n",
    "    color = df_pib[\"Color\"]\n",
    "  )\n",
    ")]"
   ]
  },
  {
   "cell_type": "code",
   "execution_count": null,
   "metadata": {},
   "outputs": [],
   "source": [
    "#creamos el layout \n",
    "layout = go.Layout(\n",
    "  title = \"Renta per Capita vs. Esperanza de Vida\", \n",
    "  xaxis = {\"title\": \"Renta per Capita\"},\n",
    "  yaxis = {\"title\": \"Esperanza de vida\"}\n",
    ")"
   ]
  },
  {
   "cell_type": "code",
   "execution_count": null,
   "metadata": {},
   "outputs": [],
   "source": [
    "#cargamos a la figura la data y el layout\n",
    "fig = go.Figure(data=data, layout=layout)"
   ]
  },
  {
   "cell_type": "code",
   "execution_count": null,
   "metadata": {},
   "outputs": [],
   "source": [
    "#creamos el archivo html con el grafico \n",
    "pyo.plot(fig, filename = \"index.html\")"
   ]
  }
 ],
 "metadata": {
  "kernelspec": {
   "display_name": "Python 3.9.12 ('base')",
   "language": "python",
   "name": "python3"
  },
  "language_info": {
   "codemirror_mode": {
    "name": "ipython",
    "version": 3
   },
   "file_extension": ".py",
   "mimetype": "text/x-python",
   "name": "python",
   "nbconvert_exporter": "python",
   "pygments_lexer": "ipython3",
   "version": "3.9.12"
  },
  "orig_nbformat": 4,
  "vscode": {
   "interpreter": {
    "hash": "ad2bdc8ecc057115af97d19610ffacc2b4e99fae6737bb82f5d7fb13d2f2c186"
   }
  }
 },
 "nbformat": 4,
 "nbformat_minor": 2
}
