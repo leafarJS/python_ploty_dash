{
 "cells": [
  {
   "cell_type": "code",
   "execution_count": 15,
   "metadata": {},
   "outputs": [],
   "source": [
    "#importar librerias\n",
    "import dash\n",
    "import dash_core_components as dcc\n",
    "import dash_html_components as html\n",
    "from dash.dependencies import Input, Output\n",
    "import plotly.graph_objects as go\n",
    "import pandas as pd"
   ]
  },
  {
   "cell_type": "code",
   "execution_count": 16,
   "metadata": {},
   "outputs": [],
   "source": [
    "df = pd.read_excel(r'./database/Info_pais.xlsx')"
   ]
  },
  {
   "cell_type": "code",
   "execution_count": 17,
   "metadata": {},
   "outputs": [],
   "source": [
    "df.columns = ['pais', 'continente', 'poblacion', 'RPC', 'EV']"
   ]
  },
  {
   "cell_type": "code",
   "execution_count": 18,
   "metadata": {},
   "outputs": [
    {
     "data": {
      "text/html": [
       "<div>\n",
       "<style scoped>\n",
       "    .dataframe tbody tr th:only-of-type {\n",
       "        vertical-align: middle;\n",
       "    }\n",
       "\n",
       "    .dataframe tbody tr th {\n",
       "        vertical-align: top;\n",
       "    }\n",
       "\n",
       "    .dataframe thead th {\n",
       "        text-align: right;\n",
       "    }\n",
       "</style>\n",
       "<table border=\"1\" class=\"dataframe\">\n",
       "  <thead>\n",
       "    <tr style=\"text-align: right;\">\n",
       "      <th></th>\n",
       "      <th>pais</th>\n",
       "      <th>continente</th>\n",
       "      <th>poblacion</th>\n",
       "      <th>RPC</th>\n",
       "      <th>EV</th>\n",
       "    </tr>\n",
       "  </thead>\n",
       "  <tbody>\n",
       "    <tr>\n",
       "      <th>0</th>\n",
       "      <td>United States</td>\n",
       "      <td>North America</td>\n",
       "      <td>325084756</td>\n",
       "      <td>59939</td>\n",
       "      <td>78.9</td>\n",
       "    </tr>\n",
       "    <tr>\n",
       "      <th>1</th>\n",
       "      <td>China</td>\n",
       "      <td>Asia</td>\n",
       "      <td>1421021791</td>\n",
       "      <td>8612</td>\n",
       "      <td>76.7</td>\n",
       "    </tr>\n",
       "    <tr>\n",
       "      <th>2</th>\n",
       "      <td>Japan</td>\n",
       "      <td>Asia</td>\n",
       "      <td>127502725</td>\n",
       "      <td>38214</td>\n",
       "      <td>84.5</td>\n",
       "    </tr>\n",
       "  </tbody>\n",
       "</table>\n",
       "</div>"
      ],
      "text/plain": [
       "            pais     continente   poblacion    RPC    EV\n",
       "0  United States  North America   325084756  59939  78.9\n",
       "1          China           Asia  1421021791   8612  76.7\n",
       "2          Japan           Asia   127502725  38214  84.5"
      ]
     },
     "execution_count": 18,
     "metadata": {},
     "output_type": "execute_result"
    }
   ],
   "source": [
    "df.head(3)"
   ]
  },
  {
   "cell_type": "code",
   "execution_count": 19,
   "metadata": {},
   "outputs": [
    {
     "data": {
      "text/html": [
       "<div>\n",
       "<style scoped>\n",
       "    .dataframe tbody tr th:only-of-type {\n",
       "        vertical-align: middle;\n",
       "    }\n",
       "\n",
       "    .dataframe tbody tr th {\n",
       "        vertical-align: top;\n",
       "    }\n",
       "\n",
       "    .dataframe thead th {\n",
       "        text-align: right;\n",
       "    }\n",
       "</style>\n",
       "<table border=\"1\" class=\"dataframe\">\n",
       "  <thead>\n",
       "    <tr style=\"text-align: right;\">\n",
       "      <th></th>\n",
       "      <th>pais</th>\n",
       "      <th>continente</th>\n",
       "      <th>poblacion</th>\n",
       "      <th>RPC</th>\n",
       "      <th>EV</th>\n",
       "    </tr>\n",
       "  </thead>\n",
       "  <tbody>\n",
       "    <tr>\n",
       "      <th>109</th>\n",
       "      <td>Mali</td>\n",
       "      <td>Africa</td>\n",
       "      <td>18512430</td>\n",
       "      <td>828</td>\n",
       "      <td>58.9</td>\n",
       "    </tr>\n",
       "    <tr>\n",
       "      <th>78</th>\n",
       "      <td>Uzbekistan</td>\n",
       "      <td>Asia</td>\n",
       "      <td>31959785</td>\n",
       "      <td>1554</td>\n",
       "      <td>71.5</td>\n",
       "    </tr>\n",
       "    <tr>\n",
       "      <th>70</th>\n",
       "      <td>Ghana</td>\n",
       "      <td>Africa</td>\n",
       "      <td>29121465</td>\n",
       "      <td>2026</td>\n",
       "      <td>63.8</td>\n",
       "    </tr>\n",
       "  </tbody>\n",
       "</table>\n",
       "</div>"
      ],
      "text/plain": [
       "           pais continente  poblacion   RPC    EV\n",
       "109        Mali     Africa   18512430   828  58.9\n",
       "78   Uzbekistan       Asia   31959785  1554  71.5\n",
       "70        Ghana     Africa   29121465  2026  63.8"
      ]
     },
     "execution_count": 19,
     "metadata": {},
     "output_type": "execute_result"
    }
   ],
   "source": [
    "df.sample(3)"
   ]
  },
  {
   "cell_type": "code",
   "execution_count": 20,
   "metadata": {},
   "outputs": [
    {
     "data": {
      "text/plain": [
       "830"
      ]
     },
     "execution_count": 20,
     "metadata": {},
     "output_type": "execute_result"
    }
   ],
   "source": [
    "df.size"
   ]
  },
  {
   "cell_type": "code",
   "execution_count": 21,
   "metadata": {},
   "outputs": [
    {
     "data": {
      "text/html": [
       "<div>\n",
       "<style scoped>\n",
       "    .dataframe tbody tr th:only-of-type {\n",
       "        vertical-align: middle;\n",
       "    }\n",
       "\n",
       "    .dataframe tbody tr th {\n",
       "        vertical-align: top;\n",
       "    }\n",
       "\n",
       "    .dataframe thead th {\n",
       "        text-align: right;\n",
       "    }\n",
       "</style>\n",
       "<table border=\"1\" class=\"dataframe\">\n",
       "  <thead>\n",
       "    <tr style=\"text-align: right;\">\n",
       "      <th></th>\n",
       "      <th>pais</th>\n",
       "      <th>continente</th>\n",
       "      <th>poblacion</th>\n",
       "      <th>RPC</th>\n",
       "      <th>EV</th>\n",
       "    </tr>\n",
       "  </thead>\n",
       "  <tbody>\n",
       "    <tr>\n",
       "      <th>163</th>\n",
       "      <td>Palau</td>\n",
       "      <td>Oceania</td>\n",
       "      <td>17808</td>\n",
       "      <td>16275</td>\n",
       "      <td>73.7</td>\n",
       "    </tr>\n",
       "    <tr>\n",
       "      <th>164</th>\n",
       "      <td>Marshall Islands</td>\n",
       "      <td>Oceania</td>\n",
       "      <td>58058</td>\n",
       "      <td>3517</td>\n",
       "      <td>73.9</td>\n",
       "    </tr>\n",
       "    <tr>\n",
       "      <th>165</th>\n",
       "      <td>Kiribati</td>\n",
       "      <td>Oceania</td>\n",
       "      <td>114158</td>\n",
       "      <td>1626</td>\n",
       "      <td>68.1</td>\n",
       "    </tr>\n",
       "  </tbody>\n",
       "</table>\n",
       "</div>"
      ],
      "text/plain": [
       "                 pais continente  poblacion    RPC    EV\n",
       "163             Palau    Oceania      17808  16275  73.7\n",
       "164  Marshall Islands    Oceania      58058   3517  73.9\n",
       "165          Kiribati    Oceania     114158   1626  68.1"
      ]
     },
     "execution_count": 21,
     "metadata": {},
     "output_type": "execute_result"
    }
   ],
   "source": [
    "df.tail(3)"
   ]
  },
  {
   "cell_type": "code",
   "execution_count": 22,
   "metadata": {},
   "outputs": [
    {
     "data": {
      "text/plain": [
       "pais           object\n",
       "continente     object\n",
       "poblacion       int64\n",
       "RPC             int64\n",
       "EV            float64\n",
       "dtype: object"
      ]
     },
     "execution_count": 22,
     "metadata": {},
     "output_type": "execute_result"
    }
   ],
   "source": [
    "df.dtypes"
   ]
  },
  {
   "cell_type": "code",
   "execution_count": 23,
   "metadata": {},
   "outputs": [],
   "source": [
    "#crear objeto dash\n",
    "app = dash.Dash()"
   ]
  },
  {
   "cell_type": "code",
   "execution_count": 24,
   "metadata": {},
   "outputs": [],
   "source": [
    "#lista con las columnas del dtaframe que estaran en los dropdowns\n",
    "option = df.columns"
   ]
  },
  {
   "cell_type": "code",
   "execution_count": 25,
   "metadata": {},
   "outputs": [],
   "source": [
    "app.layout = html.Div([\n",
    "  html.Div([\n",
    "    dcc.Dropdown(\n",
    "      id = \"eje_x\",\n",
    "      options = [{\n",
    "        'label':i,\n",
    "        'value':i\n",
    "        } for i in option],\n",
    "      value = 'RPC'\n",
    "      )\n",
    "    ],\n",
    "      style = {\n",
    "        'width': '48%',\n",
    "        'display': 'inline-block'\n",
    "      }\n",
    "  ),\n",
    "  html.Div([\n",
    "    dcc.Dropdown(\n",
    "      id = \"eje_y\",\n",
    "      options = [{\n",
    "        'label':i,\n",
    "        'value':i\n",
    "      } for i in option],\n",
    "      value = 'EV'\n",
    "    )\n",
    "  ],\n",
    "      style = {\n",
    "        'width': '48%',\n",
    "        'float': 'right',\n",
    "        'display': 'inline-block'\n",
    "      }\n",
    "  ),\n",
    "  dcc.Graph(\n",
    "    id = 'graph_op'\n",
    "  ),\n",
    "  dcc.Graph(\n",
    "    id = 'graph_op_1'\n",
    "  )\n",
    "],\n",
    "  style = {\n",
    "    'padding': 10\n",
    "  }\n",
    ")"
   ]
  },
  {
   "cell_type": "code",
   "execution_count": 26,
   "metadata": {},
   "outputs": [],
   "source": [
    "\n",
    "@app.callback(\n",
    "  Output('graph_op', 'figure'),\n",
    "  [\n",
    "    Input('eje_x', 'value'),\n",
    "    Input('eje_y', 'value')\n",
    "  ]\n",
    ")\n",
    "def multiple_option(x, y):\n",
    "  return {\n",
    "    'data':[\n",
    "      go.Scatter(\n",
    "        x = df[x],\n",
    "        y = df[y],\n",
    "        text = df['pais'],\n",
    "        mode = 'markers',\n",
    "        marker = {\n",
    "          'size':15,\n",
    "          'opacity':0.5,\n",
    "          'line':{\n",
    "            'width':1,\n",
    "            'color': 'cyan'\n",
    "          }\n",
    "        }\n",
    "      )\n",
    "    ],\n",
    "    'layout': go.Layout(\n",
    "      xaxis = {'title': x},\n",
    "      yaxis = {'title': y},\n",
    "      margin = {'l': 40, 'b': 40, 't': 10, 'r': 0},\n",
    "      hovermode = 'closest'\n",
    "    )\n",
    "  }"
   ]
  },
  {
   "cell_type": "code",
   "execution_count": 27,
   "metadata": {},
   "outputs": [],
   "source": [
    "\n",
    "@app.callback(\n",
    "  Output('graph_op_1', 'figure'),\n",
    "  [\n",
    "    Input('eje_y', 'value')\n",
    "  ]\n",
    ")\n",
    "def multiple_option_1(y):\n",
    "  return{\n",
    "    'data':[\n",
    "      go.Scatter(\n",
    "        x = df['pais'],\n",
    "        y = df[y],\n",
    "        text = df['pais'],\n",
    "        mode = 'markers',\n",
    "        marker = {\n",
    "          'size':15,\n",
    "          'opacity':0.5,\n",
    "          'line':{\n",
    "            'width':1,\n",
    "            'color': 'black'\n",
    "          }\n",
    "        }\n",
    "      )\n",
    "    ],\n",
    "    'layout': go.Layout(\n",
    "      xaxis = {'title': 'Pais'},\n",
    "      yaxis = {'title': y},\n",
    "      margin = {'l': 40, 'b': 40, 't': 10, 'r': 0},\n",
    "      hovermode = 'closest'\n",
    "    )\n",
    "  }"
   ]
  },
  {
   "cell_type": "code",
   "execution_count": 28,
   "metadata": {},
   "outputs": [
    {
     "name": "stdout",
     "output_type": "stream",
     "text": [
      "Dash is running on http://127.0.0.1:7997/\n",
      "\n",
      "Dash is running on http://127.0.0.1:7997/\n",
      "\n",
      " * Serving Flask app \"__main__\" (lazy loading)\n",
      " * Environment: production\n",
      "\u001b[31m   WARNING: This is a development server. Do not use it in a production deployment.\u001b[0m\n",
      "\u001b[2m   Use a production WSGI server instead.\u001b[0m\n",
      " * Debug mode: off\n"
     ]
    },
    {
     "name": "stderr",
     "output_type": "stream",
     "text": [
      " * Running on http://127.0.0.1:7997/ (Press CTRL+C to quit)\n",
      "127.0.0.1 - - [28/Oct/2022 19:52:58] \"GET / HTTP/1.1\" 200 -\n",
      "127.0.0.1 - - [28/Oct/2022 19:52:58] \"GET /_dash-layout HTTP/1.1\" 200 -\n",
      "127.0.0.1 - - [28/Oct/2022 19:52:58] \"GET /_dash-dependencies HTTP/1.1\" 200 -\n",
      "127.0.0.1 - - [28/Oct/2022 19:52:58] \"POST /_dash-update-component HTTP/1.1\" 200 -\n",
      "127.0.0.1 - - [28/Oct/2022 19:52:58] \"POST /_dash-update-component HTTP/1.1\" 200 -\n",
      "127.0.0.1 - - [28/Oct/2022 19:53:18] \"POST /_dash-update-component HTTP/1.1\" 200 -\n",
      "127.0.0.1 - - [28/Oct/2022 19:53:18] \"POST /_dash-update-component HTTP/1.1\" 200 -\n",
      "127.0.0.1 - - [28/Oct/2022 19:53:22] \"POST /_dash-update-component HTTP/1.1\" 200 -\n",
      "127.0.0.1 - - [28/Oct/2022 19:53:27] \"POST /_dash-update-component HTTP/1.1\" 200 -\n",
      "127.0.0.1 - - [28/Oct/2022 19:53:27] \"POST /_dash-update-component HTTP/1.1\" 200 -\n",
      "127.0.0.1 - - [28/Oct/2022 19:53:32] \"POST /_dash-update-component HTTP/1.1\" 200 -\n",
      "127.0.0.1 - - [28/Oct/2022 19:53:48] \"POST /_dash-update-component HTTP/1.1\" 200 -\n",
      "127.0.0.1 - - [28/Oct/2022 19:53:48] \"POST /_dash-update-component HTTP/1.1\" 200 -\n",
      "127.0.0.1 - - [28/Oct/2022 19:53:56] \"POST /_dash-update-component HTTP/1.1\" 200 -\n"
     ]
    }
   ],
   "source": [
    "#Sentencias para abrir el servidor al ejecutar este script\n",
    "if __name__ == \"__main__\":\n",
    "  app.run_server(port = 7997)"
   ]
  }
 ],
 "metadata": {
  "kernelspec": {
   "display_name": "Python 3.9.12 ('base')",
   "language": "python",
   "name": "python3"
  },
  "language_info": {
   "codemirror_mode": {
    "name": "ipython",
    "version": 3
   },
   "file_extension": ".py",
   "mimetype": "text/x-python",
   "name": "python",
   "nbconvert_exporter": "python",
   "pygments_lexer": "ipython3",
   "version": "3.9.12"
  },
  "orig_nbformat": 4,
  "vscode": {
   "interpreter": {
    "hash": "ad2bdc8ecc057115af97d19610ffacc2b4e99fae6737bb82f5d7fb13d2f2c186"
   }
  }
 },
 "nbformat": 4,
 "nbformat_minor": 2
}
