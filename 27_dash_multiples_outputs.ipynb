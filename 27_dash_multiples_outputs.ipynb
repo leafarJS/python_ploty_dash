{
 "cells": [
  {
   "cell_type": "code",
   "execution_count": null,
   "metadata": {},
   "outputs": [],
   "source": [
    "#importar librerias\n",
    "import dash\n",
    "import dash_core_components as dcc\n",
    "import dash_html_components as html\n",
    "from dash.dependencies import Input, Output\n",
    "import plotly.graph_objects as go\n",
    "import pandas as pd"
   ]
  },
  {
   "cell_type": "code",
   "execution_count": null,
   "metadata": {},
   "outputs": [],
   "source": [
    "df = pd.read_excel(r'./database/Info_pais.xlsx')"
   ]
  },
  {
   "cell_type": "code",
   "execution_count": null,
   "metadata": {},
   "outputs": [],
   "source": [
    "df.columns = ['pais', 'continente', 'poblacion', 'RPC', 'EV']"
   ]
  },
  {
   "cell_type": "code",
   "execution_count": null,
   "metadata": {},
   "outputs": [],
   "source": [
    "df.head(3)"
   ]
  },
  {
   "cell_type": "code",
   "execution_count": null,
   "metadata": {},
   "outputs": [],
   "source": [
    "df.sample(3)"
   ]
  },
  {
   "cell_type": "code",
   "execution_count": null,
   "metadata": {},
   "outputs": [],
   "source": [
    "df.size"
   ]
  },
  {
   "cell_type": "code",
   "execution_count": null,
   "metadata": {},
   "outputs": [],
   "source": [
    "df.tail(3)"
   ]
  },
  {
   "cell_type": "code",
   "execution_count": null,
   "metadata": {},
   "outputs": [],
   "source": [
    "df.dtypes"
   ]
  },
  {
   "cell_type": "code",
   "execution_count": null,
   "metadata": {},
   "outputs": [],
   "source": [
    "#crear objeto dash\n",
    "app = dash.Dash()"
   ]
  },
  {
   "cell_type": "code",
   "execution_count": null,
   "metadata": {},
   "outputs": [],
   "source": [
    "#lista con las columnas del dtaframe que estaran en los dropdowns\n",
    "option = df.columns"
   ]
  },
  {
   "cell_type": "code",
   "execution_count": null,
   "metadata": {},
   "outputs": [],
   "source": [
    "app.layout = html.Div([\n",
    "  html.Div([\n",
    "    dcc.Dropdown(\n",
    "      id = \"eje_x\",\n",
    "      options = [{\n",
    "        'label':i,\n",
    "        'value':i\n",
    "        } for i in option],\n",
    "      value = 'RPC'\n",
    "      )\n",
    "    ],\n",
    "      style = {\n",
    "        'width': '48%',\n",
    "        'display': 'inline-block'\n",
    "      }\n",
    "  ),\n",
    "  html.Div([\n",
    "    dcc.Dropdown(\n",
    "      id = \"eje_y\",\n",
    "      options = [{\n",
    "        'label':i,\n",
    "        'value':i\n",
    "      } for i in option],\n",
    "      value = 'EV'\n",
    "    )\n",
    "  ],\n",
    "      style = {\n",
    "        'width': '48%',\n",
    "        'float': 'right',\n",
    "        'display': 'inline-block'\n",
    "      }\n",
    "  ),\n",
    "  dcc.Graph(\n",
    "    id = 'graph_op'\n",
    "  ),\n",
    "  dcc.Graph(\n",
    "    id = 'graph_op_1'\n",
    "  )\n",
    "],\n",
    "  style = {\n",
    "    'padding': 10\n",
    "  }\n",
    ")"
   ]
  },
  {
   "cell_type": "code",
   "execution_count": null,
   "metadata": {},
   "outputs": [],
   "source": [
    "\n",
    "@app.callback(\n",
    "  Output('graph_op', 'figure'),\n",
    "  [\n",
    "    Input('eje_x', 'value'),\n",
    "    Input('eje_y', 'value')\n",
    "  ]\n",
    ")\n",
    "def multiple_option(x, y):\n",
    "  return {\n",
    "    'data':[\n",
    "      go.Scatter(\n",
    "        x = df[x],\n",
    "        y = df[y],\n",
    "        text = df['pais'],\n",
    "        mode = 'markers',\n",
    "        marker = {\n",
    "          'size':15,\n",
    "          'opacity':0.5,\n",
    "          'line':{\n",
    "            'width':1,\n",
    "            'color': 'cyan'\n",
    "          }\n",
    "        }\n",
    "      )\n",
    "    ],\n",
    "    'layout': go.Layout(\n",
    "      xaxis = {'title': x},\n",
    "      yaxis = {'title': y},\n",
    "      margin = {'l': 40, 'b': 40, 't': 10, 'r': 0},\n",
    "      hovermode = 'closest'\n",
    "    )\n",
    "  }"
   ]
  },
  {
   "cell_type": "code",
   "execution_count": null,
   "metadata": {},
   "outputs": [],
   "source": [
    "\n",
    "@app.callback(\n",
    "  Output('graph_op_1', 'figure'),\n",
    "  [\n",
    "    Input('eje_y', 'value')\n",
    "  ]\n",
    ")\n",
    "def multiple_option_1(y):\n",
    "  return{\n",
    "    'data':[\n",
    "      go.Scatter(\n",
    "        x = df['pais'],\n",
    "        y = df[y],\n",
    "        text = df['pais'],\n",
    "        mode = 'markers',\n",
    "        marker = {\n",
    "          'size':15,\n",
    "          'opacity':0.5,\n",
    "          'line':{\n",
    "            'width':1,\n",
    "            'color': 'black'\n",
    "          }\n",
    "        }\n",
    "      )\n",
    "    ],\n",
    "    'layout': go.Layout(\n",
    "      xaxis = {'title': 'Pais'},\n",
    "      yaxis = {'title': y},\n",
    "      margin = {'l': 40, 'b': 40, 't': 10, 'r': 0},\n",
    "      hovermode = 'closest'\n",
    "    )\n",
    "  }"
   ]
  },
  {
   "cell_type": "code",
   "execution_count": null,
   "metadata": {},
   "outputs": [],
   "source": [
    "#Sentencias para abrir el servidor al ejecutar este script\n",
    "if __name__ == \"__main__\":\n",
    "  app.run_server(port = 7997)"
   ]
  }
 ],
 "metadata": {
  "kernelspec": {
   "display_name": "Python 3.9.12 ('base')",
   "language": "python",
   "name": "python3"
  },
  "language_info": {
   "codemirror_mode": {
    "name": "ipython",
    "version": 3
   },
   "file_extension": ".py",
   "mimetype": "text/x-python",
   "name": "python",
   "nbconvert_exporter": "python",
   "pygments_lexer": "ipython3",
   "version": "3.9.12"
  },
  "orig_nbformat": 4,
  "vscode": {
   "interpreter": {
    "hash": "ad2bdc8ecc057115af97d19610ffacc2b4e99fae6737bb82f5d7fb13d2f2c186"
   }
  }
 },
 "nbformat": 4,
 "nbformat_minor": 2
}
