{
 "cells": [
  {
   "cell_type": "code",
   "execution_count": null,
   "metadata": {},
   "outputs": [],
   "source": [
    "#importar librerias\n",
    "import dash\n",
    "import dash_core_components as dcc\n",
    "import dash_html_components as html\n",
    "from dash.dependencies import Input, Output\n",
    "import plotly.graph_objs as go\n",
    "import pandas as pd\n",
    "import json"
   ]
  },
  {
   "cell_type": "code",
   "execution_count": null,
   "metadata": {},
   "outputs": [],
   "source": [
    "df = pd.read_excel(r'./database/Temperaturas.xlsx')"
   ]
  },
  {
   "cell_type": "code",
   "execution_count": null,
   "metadata": {},
   "outputs": [],
   "source": [
    "df.head(3)"
   ]
  },
  {
   "cell_type": "code",
   "execution_count": null,
   "metadata": {},
   "outputs": [],
   "source": [
    "#crear el objeto dash\n",
    "app = dash.Dash()"
   ]
  },
  {
   "cell_type": "code",
   "execution_count": null,
   "metadata": {},
   "outputs": [],
   "source": [
    "#Creación trazas de datos para cada ciudad\n",
    "trazos = []\n",
    "for i in df['ciudad'].unique():\n",
    "  city = df[df['ciudad'] == i]\n",
    "  trazos.append(\n",
    "    go.Scatter(\n",
    "      x = city['fecha'],\n",
    "      y = city['temp_prom'],\n",
    "      text = city['ciudad'],\n",
    "      mode = 'markers+lines',\n",
    "      opacity = 0.7,\n",
    "      marker = {'size':8},\n",
    "      name=i\n",
    "    )\n",
    "  )"
   ]
  },
  {
   "cell_type": "code",
   "execution_count": null,
   "metadata": {},
   "outputs": [],
   "source": [
    "app.layout = html.Div([\n",
    "  html.Div([\n",
    "    dcc.Graph( \n",
    "      id = 'temp_plot',\n",
    "      figure = {\n",
    "        'data': trazos,\n",
    "        'layout': go.Layout(\n",
    "          xaxis = {'title': 'Fecha'},\n",
    "          yaxis = {'title': 'Temperatura Media'},\n",
    "          hovermode = 'closest'\n",
    "        )\n",
    "      }\n",
    "  )],\n",
    "    style = {\n",
    "      'width':'60%',\n",
    "      'float':'left'\n",
    "    }\n",
    "  ),\n",
    "  html.Div([\n",
    "    html.Pre(id='hover_data', style={'paddingTop':35}) #Elemento HTML Pre (preformateado) conserva espacios y saltos de línea\n",
    "    ], \n",
    "      style={'width':'30%'}\n",
    "  )\n",
    "])"
   ]
  },
  {
   "cell_type": "code",
   "execution_count": null,
   "metadata": {},
   "outputs": [],
   "source": [
    "# CREACIÓN DE INTERACTIVIDAD\n",
    "#Callback para devolver en componente Pre hover-data la información en formato json respecto a dónde tengamos el cursor en temp_plot\n",
    "@app.callback(\n",
    "  Output('hover_data', 'children'),\n",
    "  [\n",
    "    Input('temp_plot', 'hoverData') #poder usar las propiedades hoverData, clickData o selectedData\n",
    "  ]\n",
    ")\n",
    "def callback_json(value):\n",
    "  return json.dumps(value, indent=2)"
   ]
  },
  {
   "cell_type": "code",
   "execution_count": null,
   "metadata": {},
   "outputs": [],
   "source": [
    "#Sentencias para abrir el servidor al ejecutar este script\n",
    "if __name__ == \"__main__\":\n",
    "  app.run_server(port = 7665)"
   ]
  }
 ],
 "metadata": {
  "kernelspec": {
   "display_name": "Python 3.9.12 ('base')",
   "language": "python",
   "name": "python3"
  },
  "language_info": {
   "codemirror_mode": {
    "name": "ipython",
    "version": 3
   },
   "file_extension": ".py",
   "mimetype": "text/x-python",
   "name": "python",
   "nbconvert_exporter": "python",
   "pygments_lexer": "ipython3",
   "version": "3.9.12"
  },
  "orig_nbformat": 4,
  "vscode": {
   "interpreter": {
    "hash": "ad2bdc8ecc057115af97d19610ffacc2b4e99fae6737bb82f5d7fb13d2f2c186"
   }
  }
 },
 "nbformat": 4,
 "nbformat_minor": 2
}
