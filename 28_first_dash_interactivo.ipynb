{
 "cells": [
  {
   "cell_type": "code",
   "execution_count": 1,
   "metadata": {},
   "outputs": [],
   "source": [
    "#importar librerias\n",
    "import dash\n",
    "import dash_core_components as dcc\n",
    "import dash_html_components as html\n",
    "import plotly.graph_objs as go\n",
    "from dash.dependencies import Input, Output\n",
    "import pandas as pd"
   ]
  },
  {
   "cell_type": "code",
   "execution_count": 2,
   "metadata": {},
   "outputs": [],
   "source": [
    "df_500 = pd.read_csv(r'./database/SP500_data_.csv', encoding = 'ISO-8859-1', delimiter = ',')"
   ]
  },
  {
   "cell_type": "code",
   "execution_count": 3,
   "metadata": {},
   "outputs": [],
   "source": [
    "df_500.columns = ['fecha', 'open', 'high', 'low', 'close', 'adj_close', 'volumen']"
   ]
  },
  {
   "cell_type": "code",
   "execution_count": 4,
   "metadata": {},
   "outputs": [
    {
     "data": {
      "text/html": [
       "<div>\n",
       "<style scoped>\n",
       "    .dataframe tbody tr th:only-of-type {\n",
       "        vertical-align: middle;\n",
       "    }\n",
       "\n",
       "    .dataframe tbody tr th {\n",
       "        vertical-align: top;\n",
       "    }\n",
       "\n",
       "    .dataframe thead th {\n",
       "        text-align: right;\n",
       "    }\n",
       "</style>\n",
       "<table border=\"1\" class=\"dataframe\">\n",
       "  <thead>\n",
       "    <tr style=\"text-align: right;\">\n",
       "      <th></th>\n",
       "      <th>fecha</th>\n",
       "      <th>open</th>\n",
       "      <th>high</th>\n",
       "      <th>low</th>\n",
       "      <th>close</th>\n",
       "      <th>adj_close</th>\n",
       "      <th>volumen</th>\n",
       "    </tr>\n",
       "  </thead>\n",
       "  <tbody>\n",
       "    <tr>\n",
       "      <th>0</th>\n",
       "      <td>1928-01-03</td>\n",
       "      <td>17.760000</td>\n",
       "      <td>17.760000</td>\n",
       "      <td>17.760000</td>\n",
       "      <td>17.760000</td>\n",
       "      <td>17.760000</td>\n",
       "      <td>0</td>\n",
       "    </tr>\n",
       "    <tr>\n",
       "      <th>1</th>\n",
       "      <td>1928-01-04</td>\n",
       "      <td>17.719999</td>\n",
       "      <td>17.719999</td>\n",
       "      <td>17.719999</td>\n",
       "      <td>17.719999</td>\n",
       "      <td>17.719999</td>\n",
       "      <td>0</td>\n",
       "    </tr>\n",
       "    <tr>\n",
       "      <th>2</th>\n",
       "      <td>1928-01-05</td>\n",
       "      <td>17.549999</td>\n",
       "      <td>17.549999</td>\n",
       "      <td>17.549999</td>\n",
       "      <td>17.549999</td>\n",
       "      <td>17.549999</td>\n",
       "      <td>0</td>\n",
       "    </tr>\n",
       "  </tbody>\n",
       "</table>\n",
       "</div>"
      ],
      "text/plain": [
       "        fecha       open       high        low      close  adj_close  volumen\n",
       "0  1928-01-03  17.760000  17.760000  17.760000  17.760000  17.760000        0\n",
       "1  1928-01-04  17.719999  17.719999  17.719999  17.719999  17.719999        0\n",
       "2  1928-01-05  17.549999  17.549999  17.549999  17.549999  17.549999        0"
      ]
     },
     "execution_count": 4,
     "metadata": {},
     "output_type": "execute_result"
    }
   ],
   "source": [
    "df_500.head(3)"
   ]
  },
  {
   "cell_type": "code",
   "execution_count": 5,
   "metadata": {},
   "outputs": [
    {
     "data": {
      "text/plain": [
       "Index(['fecha', 'open', 'high', 'low', 'close', 'adj_close', 'volumen'], dtype='object')"
      ]
     },
     "execution_count": 5,
     "metadata": {},
     "output_type": "execute_result"
    }
   ],
   "source": [
    "df_500.columns"
   ]
  },
  {
   "cell_type": "code",
   "execution_count": 6,
   "metadata": {},
   "outputs": [],
   "source": [
    "#crear el objeto dash\n",
    "app = dash.Dash()"
   ]
  },
  {
   "cell_type": "code",
   "execution_count": 7,
   "metadata": {},
   "outputs": [],
   "source": [
    "# DEFINICIÓN LAYOUT\n",
    "app.layout = html.Div([\n",
    "  html.Div([\n",
    "    html.Label('Selección'),\n",
    "    dcc.Dropdown(\n",
    "      id = 'select',\n",
    "      options = [\n",
    "        {\n",
    "          'label':'Apertura',\n",
    "          'value':'open'\n",
    "        },\n",
    "        {\n",
    "          'label':'Cierre',\n",
    "          'value':'close'\n",
    "        }\n",
    "      ],\n",
    "      value = 'close'\n",
    "    )\n",
    "  ],\n",
    "    style = {\n",
    "      'width':'48%',\n",
    "      'display':'inline-block'\n",
    "    }\n",
    "  ),\n",
    "  html.Div([\n",
    "    html.Label('Rango Fechas'),\n",
    "    dcc.DatePickerRange(\n",
    "    id = 'select_date',\n",
    "    initial_visible_month = df_500['fecha'].min(),\n",
    "    start_date = df_500['fecha'].min(),\n",
    "    end_date = df_500['fecha'].max()\n",
    "  ) \n",
    "  ],\n",
    "    style = {\n",
    "      'width':'48%',\n",
    "      'float':'right',\n",
    "      'display': 'inline-block',\n",
    "      'margin' :{'l': 0, 'b': 40, 't': 0, 'r': 10}\n",
    "    }\n",
    "  ),\n",
    "  dcc.Graph(\n",
    "    id = 'line_plot'\n",
    "  ),\n",
    "  dcc.Graph(\n",
    "    id = 'bar_plot'\n",
    "  )\n",
    "],\n",
    "  style = {\n",
    "    'background': \"#262626\",\n",
    "    'fontFamily': \"Verdana\",\n",
    "    'color':'blue'\n",
    "  }\n",
    ")"
   ]
  },
  {
   "cell_type": "code",
   "execution_count": 8,
   "metadata": {},
   "outputs": [],
   "source": [
    "# CREACIÓN DE GRÁFICOS E INTERACTIVIDAD\n",
    "#Callback para actualizar gráfico de cotización en función del dropdown eligiendo apertura o cierre de sesión y según selector de fechas\n",
    "@app.callback(\n",
    "  Output('line_plot', 'figure'),\n",
    "  [\n",
    "    Input('select_date','start_date'),\n",
    "    Input('select_date','end_date'),\n",
    "    Input('select','value')\n",
    "  ]\n",
    ")\n",
    "def dinamic_graph_line(fmin, fmax, select):\n",
    "  filtro = df_500[(df_500['fecha']>= fmin) & (df_500['fecha']<= fmax)]\n",
    "  if select =='open':\n",
    "    return {\n",
    "      'data':[\n",
    "        go.Scatter(\n",
    "          x = filtro['fecha'],\n",
    "          y = filtro['open'],\n",
    "          mode = 'lines'\n",
    "        )\n",
    "      ],\n",
    "      'layout': go.Layout(\n",
    "        title = 'SP500 Cotización',\n",
    "        xaxis = {'title': 'Fecha'},\n",
    "        yaxis = {'title': 'Valor de Cotización y Apertura'},\n",
    "        hovermode = 'closest'\n",
    "      )\n",
    "    }\n",
    "  else:\n",
    "    return {\n",
    "      'data':[\n",
    "        go.Scatter(\n",
    "          x = filtro['fecha'],\n",
    "          y = filtro['close'],\n",
    "          mode = 'lines'\n",
    "        )\n",
    "      ],\n",
    "      'layout': go.Layout(\n",
    "        title = 'SP500 Cotización',\n",
    "        xaxis = {'title': 'Fecha'},\n",
    "        yaxis = {'title': 'Valor de Cotización y Cierre'},\n",
    "        hovermode = 'closest'\n",
    "      )\n",
    "    }"
   ]
  },
  {
   "cell_type": "code",
   "execution_count": 9,
   "metadata": {},
   "outputs": [],
   "source": [
    "#Callback para actualizar gráfico de volumen según selector de fechas\n",
    "@app.callback(\n",
    "  Output('bar_plot', 'figure'),\n",
    "  [\n",
    "    Input('select_date','start_date'),\n",
    "    Input('select_date','end_date')\n",
    "  ]\n",
    ")\n",
    "def dinamic_graph_bar(fmin, fmax):\n",
    "  filtro = df_500[(df_500['fecha']>= fmin) & (df_500['fecha']<= fmax)]\n",
    "  return{\n",
    "    'data':[\n",
    "      go.Bar(\n",
    "        x = filtro['fecha'],\n",
    "        y = filtro['volumen'],\n",
    "      )\n",
    "    ],\n",
    "    'layout': go.Layout(\n",
    "      title = 'SP500 Volumen Negociado',\n",
    "      xaxis = {'title':'fecha'},\n",
    "      yaxis = {'title':'Volumen'}\n",
    "    )\n",
    "  }"
   ]
  },
  {
   "cell_type": "code",
   "execution_count": 10,
   "metadata": {},
   "outputs": [
    {
     "name": "stdout",
     "output_type": "stream",
     "text": [
      "Dash is running on http://127.0.0.1:7996/\n",
      "\n",
      " * Serving Flask app \"__main__\" (lazy loading)\n",
      " * Environment: production\n",
      "\u001b[31m   WARNING: This is a development server. Do not use it in a production deployment.\u001b[0m\n",
      "\u001b[2m   Use a production WSGI server instead.\u001b[0m\n",
      " * Debug mode: off\n"
     ]
    },
    {
     "name": "stderr",
     "output_type": "stream",
     "text": [
      " * Running on http://127.0.0.1:7996/ (Press CTRL+C to quit)\n"
     ]
    }
   ],
   "source": [
    "#Sentencias para abrir el servidor al ejecutar este script\n",
    "if __name__ == \"__main__\":\n",
    "  app.run_server(port = 7996)"
   ]
  }
 ],
 "metadata": {
  "kernelspec": {
   "display_name": "Python 3.9.12 ('base')",
   "language": "python",
   "name": "python3"
  },
  "language_info": {
   "codemirror_mode": {
    "name": "ipython",
    "version": 3
   },
   "file_extension": ".py",
   "mimetype": "text/x-python",
   "name": "python",
   "nbconvert_exporter": "python",
   "pygments_lexer": "ipython3",
   "version": "3.9.12"
  },
  "orig_nbformat": 4,
  "vscode": {
   "interpreter": {
    "hash": "ad2bdc8ecc057115af97d19610ffacc2b4e99fae6737bb82f5d7fb13d2f2c186"
   }
  }
 },
 "nbformat": 4,
 "nbformat_minor": 2
}
