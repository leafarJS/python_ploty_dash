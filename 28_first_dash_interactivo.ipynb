{
 "cells": [
  {
   "cell_type": "code",
   "execution_count": null,
   "metadata": {},
   "outputs": [],
   "source": [
    "#importar librerias\n",
    "import dash\n",
    "import dash_core_components as dcc\n",
    "import dash_html_components as html\n",
    "import plotly.graph_objs as go\n",
    "from dash.dependencies import Input, Output\n",
    "import pandas as pd"
   ]
  },
  {
   "cell_type": "code",
   "execution_count": null,
   "metadata": {},
   "outputs": [],
   "source": [
    "df_500 = pd.read_csv(r'./database/SP500_data_.csv', encoding = 'ISO-8859-1', delimiter = ',')"
   ]
  },
  {
   "cell_type": "code",
   "execution_count": null,
   "metadata": {},
   "outputs": [],
   "source": [
    "df_500.columns = ['fecha', 'open', 'high', 'low', 'close', 'adj_close', 'volumen']"
   ]
  },
  {
   "cell_type": "code",
   "execution_count": null,
   "metadata": {},
   "outputs": [],
   "source": [
    "df_500.head(3)"
   ]
  },
  {
   "cell_type": "code",
   "execution_count": null,
   "metadata": {},
   "outputs": [],
   "source": [
    "df_500.columns"
   ]
  },
  {
   "cell_type": "code",
   "execution_count": null,
   "metadata": {},
   "outputs": [],
   "source": [
    "#crear el objeto dash\n",
    "app = dash.Dash()"
   ]
  },
  {
   "cell_type": "code",
   "execution_count": null,
   "metadata": {},
   "outputs": [],
   "source": [
    "# DEFINICIÓN LAYOUT\n",
    "app.layout = html.Div([\n",
    "  html.Div([\n",
    "    html.Label('Selección'),\n",
    "    dcc.Dropdown(\n",
    "      id = 'select',\n",
    "      options = [\n",
    "        {\n",
    "          'label':'Apertura',\n",
    "          'value':'open'\n",
    "        },\n",
    "        {\n",
    "          'label':'Cierre',\n",
    "          'value':'close'\n",
    "        }\n",
    "      ],\n",
    "      value = 'close'\n",
    "    )\n",
    "  ],\n",
    "    style = {\n",
    "      'width':'48%',\n",
    "      'display':'inline-block'\n",
    "    }\n",
    "  ),\n",
    "  html.Div([\n",
    "    html.Label('Rango Fechas'),\n",
    "    dcc.DatePickerRange(\n",
    "    id = 'select_date',\n",
    "    initial_visible_month = df_500['fecha'].min(),\n",
    "    start_date = df_500['fecha'].min(),\n",
    "    end_date = df_500['fecha'].max()\n",
    "  ) \n",
    "  ],\n",
    "    style = {\n",
    "      'width':'48%',\n",
    "      'float':'right',\n",
    "      'display': 'inline-block',\n",
    "      'margin' :{'l': 0, 'b': 40, 't': 0, 'r': 10}\n",
    "    }\n",
    "  ),\n",
    "  dcc.Graph(\n",
    "    id = 'line_plot'\n",
    "  ),\n",
    "  dcc.Graph(\n",
    "    id = 'bar_plot'\n",
    "  )\n",
    "],\n",
    "  style = {\n",
    "    'background': \"#262626\",\n",
    "    'fontFamily': \"Verdana\",\n",
    "    'color':'blue'\n",
    "  }\n",
    ")"
   ]
  },
  {
   "cell_type": "code",
   "execution_count": null,
   "metadata": {},
   "outputs": [],
   "source": [
    "# CREACIÓN DE GRÁFICOS E INTERACTIVIDAD\n",
    "#Callback para actualizar gráfico de cotización en función del dropdown eligiendo apertura o cierre de sesión y según selector de fechas\n",
    "@app.callback(\n",
    "  Output('line_plot', 'figure'),\n",
    "  [\n",
    "    Input('select_date','start_date'),\n",
    "    Input('select_date','end_date'),\n",
    "    Input('select','value')\n",
    "  ]\n",
    ")\n",
    "def dinamic_graph_line(fmin, fmax, select):\n",
    "  filtro = df_500[(df_500['fecha']>= fmin) & (df_500['fecha']<= fmax)]\n",
    "  if select =='open':\n",
    "    return {\n",
    "      'data':[\n",
    "        go.Scatter(\n",
    "          x = filtro['fecha'],\n",
    "          y = filtro['open'],\n",
    "          mode = 'lines'\n",
    "        )\n",
    "      ],\n",
    "      'layout': go.Layout(\n",
    "        title = 'SP500 Cotización',\n",
    "        xaxis = {'title': 'Fecha'},\n",
    "        yaxis = {'title': 'Valor de Cotización y Apertura'},\n",
    "        hovermode = 'closest'\n",
    "      )\n",
    "    }\n",
    "  else:\n",
    "    return {\n",
    "      'data':[\n",
    "        go.Scatter(\n",
    "          x = filtro['fecha'],\n",
    "          y = filtro['close'],\n",
    "          mode = 'lines'\n",
    "        )\n",
    "      ],\n",
    "      'layout': go.Layout(\n",
    "        title = 'SP500 Cotización',\n",
    "        xaxis = {'title': 'Fecha'},\n",
    "        yaxis = {'title': 'Valor de Cotización y Cierre'},\n",
    "        hovermode = 'closest'\n",
    "      )\n",
    "    }"
   ]
  },
  {
   "cell_type": "code",
   "execution_count": null,
   "metadata": {},
   "outputs": [],
   "source": [
    "#Callback para actualizar gráfico de volumen según selector de fechas\n",
    "@app.callback(\n",
    "  Output('bar_plot', 'figure'),\n",
    "  [\n",
    "    Input('select_date','start_date'),\n",
    "    Input('select_date','end_date')\n",
    "  ]\n",
    ")\n",
    "def dinamic_graph_bar(fmin, fmax):\n",
    "  filtro = df_500[(df_500['fecha']>= fmin) & (df_500['fecha']<= fmax)]\n",
    "  return{\n",
    "    'data':[\n",
    "      go.Bar(\n",
    "        x = filtro['fecha'],\n",
    "        y = filtro['volumen'],\n",
    "      )\n",
    "    ],\n",
    "    'layout': go.Layout(\n",
    "      title = 'SP500 Volumen Negociado',\n",
    "      xaxis = {'title':'fecha'},\n",
    "      yaxis = {'title':'Volumen'}\n",
    "    )\n",
    "  }"
   ]
  },
  {
   "cell_type": "code",
   "execution_count": null,
   "metadata": {},
   "outputs": [],
   "source": [
    "#Sentencias para abrir el servidor al ejecutar este script\n",
    "if __name__ == \"__main__\":\n",
    "  app.run_server(port = 7996)"
   ]
  }
 ],
 "metadata": {
  "kernelspec": {
   "display_name": "Python 3.9.12 ('base')",
   "language": "python",
   "name": "python3"
  },
  "language_info": {
   "codemirror_mode": {
    "name": "ipython",
    "version": 3
   },
   "file_extension": ".py",
   "mimetype": "text/x-python",
   "name": "python",
   "nbconvert_exporter": "python",
   "pygments_lexer": "ipython3",
   "version": "3.9.12"
  },
  "orig_nbformat": 4,
  "vscode": {
   "interpreter": {
    "hash": "ad2bdc8ecc057115af97d19610ffacc2b4e99fae6737bb82f5d7fb13d2f2c186"
   }
  }
 },
 "nbformat": 4,
 "nbformat_minor": 2
}
