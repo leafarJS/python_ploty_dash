{
 "cells": [
  {
   "cell_type": "code",
   "execution_count": null,
   "metadata": {},
   "outputs": [],
   "source": [
    "#importar librerias\n",
    "import dash\n",
    "import dash_core_components as dcc\n",
    "import dash_html_components as html\n",
    "from dash.dependencies import Input, Output\n",
    "import plotly.graph_objects as go\n",
    "import pandas as pd"
   ]
  },
  {
   "cell_type": "code",
   "execution_count": null,
   "metadata": {},
   "outputs": [],
   "source": [
    "#crear la ruta de la data\n",
    "df_temp = pd.read_excel(r'./database/Temperaturas.xlsx')"
   ]
  },
  {
   "cell_type": "code",
   "execution_count": null,
   "metadata": {},
   "outputs": [],
   "source": [
    "#analisis de la data\n",
    "df_temp.head(3)"
   ]
  },
  {
   "cell_type": "code",
   "execution_count": null,
   "metadata": {},
   "outputs": [],
   "source": [
    "df_temp.sample(2)"
   ]
  },
  {
   "cell_type": "code",
   "execution_count": null,
   "metadata": {},
   "outputs": [],
   "source": [
    "df_temp.dtypes"
   ]
  },
  {
   "cell_type": "code",
   "execution_count": null,
   "metadata": {},
   "outputs": [],
   "source": [
    "df_temp.tail(3)"
   ]
  },
  {
   "cell_type": "code",
   "execution_count": null,
   "metadata": {},
   "outputs": [],
   "source": [
    "df_temp.size"
   ]
  },
  {
   "cell_type": "code",
   "execution_count": null,
   "metadata": {},
   "outputs": [],
   "source": [
    "#crear el objeto dash\n",
    "app = dash.Dash()"
   ]
  },
  {
   "cell_type": "code",
   "execution_count": null,
   "metadata": {},
   "outputs": [],
   "source": [
    "#definición del layout de la app a partir del componente html y el core\n",
    "app.layout = html.Div([\n",
    "  dcc.Graph(\n",
    "    id = 'graph_line'\n",
    "  ),\n",
    "  dcc.DatePickerRange(\n",
    "    id = 'select_date',\n",
    "    initial_visible_month = df_temp['fecha'].min(),\n",
    "    start_date = df_temp['fecha'].min(),\n",
    "    end_date = df_temp['fecha'].max()\n",
    "  )  \n",
    "])"
   ]
  },
  {
   "cell_type": "code",
   "execution_count": null,
   "metadata": {},
   "outputs": [],
   "source": [
    "#funcion para los graficos y la interactividad\n",
    "\n",
    "\n",
    "@app.callback(\n",
    "  Output('graph_line', 'figure'),\n",
    "  [\n",
    "    Input('select_date', 'start_date'),\n",
    "    Input('select_date', 'end_date')\n",
    "  ]\n",
    ")\n",
    "def range_date(fmin, fmax):\n",
    "  filtro_df = df_temp[(df_temp['fecha']>= fmin) & (df_temp['fecha']<= fmax)]\n",
    "\n",
    "  #creación de trazas por ciudad\n",
    "  trazas = []\n",
    "  for i in filtro_df['ciudad'].unique():\n",
    "    df_city = filtro_df[filtro_df['ciudad'] == i]\n",
    "\n",
    "    trazas.append(\n",
    "      go.Scatter(\n",
    "        x = df_city['fecha'],\n",
    "        y = df_city['temp_prom'],\n",
    "        text = df_city['ciudad'],\n",
    "        mode = 'lines',\n",
    "        opacity = 0.7,\n",
    "        marker = {'size':15},\n",
    "        name = i\n",
    "      )\n",
    "    )\n",
    "  #retornar los objetos data y layout para ser enviados al callback\n",
    "  return {\n",
    "    'data': trazas,\n",
    "    'layout': go.Layout(\n",
    "      xaxis = {'title': 'Fecha'},\n",
    "      yaxis = {'title': 'Temperatura Promedio'},\n",
    "      hovermode = 'closest'\n",
    "    )\n",
    "  }\n"
   ]
  },
  {
   "cell_type": "code",
   "execution_count": null,
   "metadata": {},
   "outputs": [],
   "source": [
    "#abrir el servidor para ejecutar el codigo en del dashboard\n",
    "if __name__ == \"__main__\":\n",
    "  app.run_server(port = 7999)"
   ]
  }
 ],
 "metadata": {
  "kernelspec": {
   "display_name": "Python 3.9.12 ('base')",
   "language": "python",
   "name": "python3"
  },
  "language_info": {
   "codemirror_mode": {
    "name": "ipython",
    "version": 3
   },
   "file_extension": ".py",
   "mimetype": "text/x-python",
   "name": "python",
   "nbconvert_exporter": "python",
   "pygments_lexer": "ipython3",
   "version": "3.9.12"
  },
  "orig_nbformat": 4,
  "vscode": {
   "interpreter": {
    "hash": "ad2bdc8ecc057115af97d19610ffacc2b4e99fae6737bb82f5d7fb13d2f2c186"
   }
  }
 },
 "nbformat": 4,
 "nbformat_minor": 2
}
