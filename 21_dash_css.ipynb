{
 "cells": [
  {
   "cell_type": "code",
   "execution_count": 17,
   "metadata": {},
   "outputs": [],
   "source": [
    "import dash \n",
    "import dash_core_components as dcc\n",
    "import dash_html_components as html\n"
   ]
  },
  {
   "cell_type": "code",
   "execution_count": 18,
   "metadata": {},
   "outputs": [],
   "source": [
    "app = dash.Dash()"
   ]
  },
  {
   "cell_type": "code",
   "execution_count": 19,
   "metadata": {},
   "outputs": [],
   "source": [
    "#css dict\n",
    "colors = {\n",
    "  \"backgroundcolor\": \"#262626\",\n",
    "  \"text\": \"#7fcbff\"\n",
    "}"
   ]
  },
  {
   "cell_type": "code",
   "execution_count": 20,
   "metadata": {},
   "outputs": [],
   "source": [
    "app.layout = html.Div([\n",
    "  html.H1(\n",
    "    children = \"Primer dashboard con dash\",\n",
    "    style = {\n",
    "      \"textAlign\":\"center\", \n",
    "      \"color\": colors[\"text\"],\n",
    "      \"fontFamily\":\"Verdana\",\n",
    "      \"fontSize\":\"20px\",\n",
    "    }\n",
    "    ),\n",
    "  html.Div(\n",
    "    children = \"Dash es un framework para aplicaciones web\",\n",
    "    style = {\n",
    "      \"textAlign\":\"center\", \n",
    "      \"color\": colors[\"text\"],\n",
    "      \"fontFamily\":\"arial\",\n",
    "      \"fontSize\":\"10px\",\n",
    "    }\n",
    "    ),\n",
    "  dcc.Graph(\n",
    "    id = \"figura_inicial\",\n",
    "    figure = {\n",
    "      \"data\":[\n",
    "        {\n",
    "          \"x\":[10,20,30,40,50],\n",
    "          \"y\":[60,70,80,90,100],\n",
    "          \"type\":\"bar\", \n",
    "          \"name\":\"Madrid\"\n",
    "        },\n",
    "        {\n",
    "          \"x\":[11,22,33,44,55],\n",
    "          \"y\":[62,72,82,92,102],\n",
    "          \"type\":\"bar\", \n",
    "          \"name\":\"Barcelona\"\n",
    "        }\n",
    "      ],\n",
    "      \"layout\":{\n",
    "        \"title\": \"Comparativa Madrid vs. Barcelona\", \n",
    "        \"plot_bgcolor\": colors['backgroundcolor'],\n",
    "        \"paper_bgcolor\": colors['backgroundcolor'],\n",
    "        \"font\":{\n",
    "          \"color\": colors['text']\n",
    "        }\n",
    "      }\n",
    "    }\n",
    "  )\n",
    "],\n",
    "  #style global\n",
    "  style = {\"backgroundColor\":colors['backgroundcolor']}\n",
    ")"
   ]
  },
  {
   "cell_type": "code",
   "execution_count": 21,
   "metadata": {},
   "outputs": [
    {
     "name": "stdout",
     "output_type": "stream",
     "text": [
      "Dash is running on http://127.0.0.1:8000/\n",
      "\n",
      "Dash is running on http://127.0.0.1:8000/\n",
      "\n",
      "Dash is running on http://127.0.0.1:8000/\n",
      "\n",
      "Dash is running on http://127.0.0.1:8000/\n",
      "\n",
      "Dash is running on http://127.0.0.1:8000/\n",
      "\n",
      " * Serving Flask app \"__main__\" (lazy loading)\n",
      " * Environment: production\n",
      "\u001b[31m   WARNING: This is a development server. Do not use it in a production deployment.\u001b[0m\n",
      "\u001b[2m   Use a production WSGI server instead.\u001b[0m\n",
      " * Debug mode: off\n"
     ]
    },
    {
     "name": "stderr",
     "output_type": "stream",
     "text": [
      " * Running on http://127.0.0.1:8000/ (Press CTRL+C to quit)\n"
     ]
    }
   ],
   "source": [
    "if __name__ == \"__main__\":\n",
    "  app.run_server(port=8000)"
   ]
  }
 ],
 "metadata": {
  "kernelspec": {
   "display_name": "Python 3.9.12 ('base')",
   "language": "python",
   "name": "python3"
  },
  "language_info": {
   "codemirror_mode": {
    "name": "ipython",
    "version": 3
   },
   "file_extension": ".py",
   "mimetype": "text/x-python",
   "name": "python",
   "nbconvert_exporter": "python",
   "pygments_lexer": "ipython3",
   "version": "3.9.12"
  },
  "orig_nbformat": 4,
  "vscode": {
   "interpreter": {
    "hash": "ad2bdc8ecc057115af97d19610ffacc2b4e99fae6737bb82f5d7fb13d2f2c186"
   }
  }
 },
 "nbformat": 4,
 "nbformat_minor": 2
}
