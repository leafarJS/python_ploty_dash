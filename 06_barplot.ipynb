{
 "cells": [
  {
   "cell_type": "code",
   "execution_count": 55,
   "metadata": {},
   "outputs": [],
   "source": [
    "import plotly.offline as pyo\n",
    "import plotly.graph_objs as go\n",
    "import pandas as pd"
   ]
  },
  {
   "cell_type": "code",
   "execution_count": 56,
   "metadata": {},
   "outputs": [],
   "source": [
    "#cargar datos\n",
    "df_oly = pd.read_excel(r'./database/Medallas_olímpicas.xlsx')"
   ]
  },
  {
   "cell_type": "code",
   "execution_count": 57,
   "metadata": {},
   "outputs": [
    {
     "data": {
      "text/html": [
       "<div>\n",
       "<style scoped>\n",
       "    .dataframe tbody tr th:only-of-type {\n",
       "        vertical-align: middle;\n",
       "    }\n",
       "\n",
       "    .dataframe tbody tr th {\n",
       "        vertical-align: top;\n",
       "    }\n",
       "\n",
       "    .dataframe thead th {\n",
       "        text-align: right;\n",
       "    }\n",
       "</style>\n",
       "<table border=\"1\" class=\"dataframe\">\n",
       "  <thead>\n",
       "    <tr style=\"text-align: right;\">\n",
       "      <th></th>\n",
       "      <th>País</th>\n",
       "      <th>Oro</th>\n",
       "      <th>Plata</th>\n",
       "      <th>Bronce</th>\n",
       "      <th>Total</th>\n",
       "    </tr>\n",
       "  </thead>\n",
       "  <tbody>\n",
       "    <tr>\n",
       "      <th>0</th>\n",
       "      <td>Estados Unidos (USA)</td>\n",
       "      <td>1022</td>\n",
       "      <td>794</td>\n",
       "      <td>704</td>\n",
       "      <td>2520</td>\n",
       "    </tr>\n",
       "    <tr>\n",
       "      <th>1</th>\n",
       "      <td>Unión Soviética (URS)</td>\n",
       "      <td>395</td>\n",
       "      <td>319</td>\n",
       "      <td>296</td>\n",
       "      <td>1010</td>\n",
       "    </tr>\n",
       "    <tr>\n",
       "      <th>2</th>\n",
       "      <td>Reino Unido (GBR)</td>\n",
       "      <td>263</td>\n",
       "      <td>295</td>\n",
       "      <td>289</td>\n",
       "      <td>847</td>\n",
       "    </tr>\n",
       "    <tr>\n",
       "      <th>3</th>\n",
       "      <td>China (CHN)</td>\n",
       "      <td>227</td>\n",
       "      <td>163</td>\n",
       "      <td>153</td>\n",
       "      <td>543</td>\n",
       "    </tr>\n",
       "    <tr>\n",
       "      <th>4</th>\n",
       "      <td>Alemania (GER)</td>\n",
       "      <td>219</td>\n",
       "      <td>246</td>\n",
       "      <td>269</td>\n",
       "      <td>734</td>\n",
       "    </tr>\n",
       "  </tbody>\n",
       "</table>\n",
       "</div>"
      ],
      "text/plain": [
       "                     País   Oro  Plata  Bronce  Total\n",
       "0    Estados Unidos (USA)  1022    794     704   2520\n",
       "1   Unión Soviética (URS)   395    319     296   1010\n",
       "2       Reino Unido (GBR)   263    295     289    847\n",
       "3             China (CHN)   227    163     153    543\n",
       "4          Alemania (GER)   219    246     269    734"
      ]
     },
     "execution_count": 57,
     "metadata": {},
     "output_type": "execute_result"
    }
   ],
   "source": [
    "#analisis de la data\n",
    "df_oly.head()\n"
   ]
  },
  {
   "cell_type": "code",
   "execution_count": 58,
   "metadata": {},
   "outputs": [],
   "source": [
    "#ordenar de manera descendente por columna total\n",
    "df_oly = df_oly.sort_values(by = \"Total\", ascending = False)"
   ]
  },
  {
   "cell_type": "code",
   "execution_count": 59,
   "metadata": {},
   "outputs": [],
   "source": [
    "#definición del objeto tipo lista data con una unica traza basada en el total de medallas \n",
    "data_1 = go.Bar(\n",
    "  x = df_oly['País'], \n",
    "  y = df_oly['Oro'], \n",
    "  name = \"Oro\", \n",
    "  marker = {\"color\":\"#D4AF37\"}\n",
    ")\n",
    "data_2 = go.Bar(\n",
    "  x = df_oly['País'], \n",
    "  y = df_oly['Plata'], \n",
    "  name = \"Plata\", \n",
    "  marker = {\"color\":\"#C0C0C0\"}\n",
    ")\n",
    "data_3 = go.Bar(\n",
    "  x = df_oly['País'], \n",
    "  y = df_oly['Bronce'], \n",
    "  name = \"Bronce\", \n",
    "  marker = {\"color\":\"#CD7F32\"}\n",
    ")\n",
    "data = [data_1, data_2, data_3]"
   ]
  },
  {
   "cell_type": "code",
   "execution_count": 60,
   "metadata": {},
   "outputs": [],
   "source": [
    "#definición del objeto layout diseño del grafico como titulo, nombre, ejes, etc.  \n",
    "layout = go.Layout(\n",
    "  title = \"Medallas Olimpicas por pais\", \n",
    "  xaxis = {\"title\": \"Pais\"},\n",
    "  yaxis = {\"title\": \"Total Medallas\"}, \n",
    "  barmode = \"stack\"\n",
    ")"
   ]
  },
  {
   "cell_type": "code",
   "execution_count": 61,
   "metadata": {},
   "outputs": [],
   "source": [
    "#creación del objeto figura de plotly a partir de los objetos data y layout creados previamente\n",
    "fig = go.Figure(data = data, layout = layout)"
   ]
  },
  {
   "cell_type": "code",
   "execution_count": 62,
   "metadata": {},
   "outputs": [
    {
     "data": {
      "text/plain": [
       "'bar_plot_1.html'"
      ]
     },
     "execution_count": 62,
     "metadata": {},
     "output_type": "execute_result"
    }
   ],
   "source": [
    "#generación del plot a partir de la figura definida en un archivo html \n",
    "pyo.plot(fig, filename = \"bar_plot_1.html\")"
   ]
  }
 ],
 "metadata": {
  "kernelspec": {
   "display_name": "Python 3.9.12 ('base')",
   "language": "python",
   "name": "python3"
  },
  "language_info": {
   "codemirror_mode": {
    "name": "ipython",
    "version": 3
   },
   "file_extension": ".py",
   "mimetype": "text/x-python",
   "name": "python",
   "nbconvert_exporter": "python",
   "pygments_lexer": "ipython3",
   "version": "3.9.12"
  },
  "orig_nbformat": 4,
  "vscode": {
   "interpreter": {
    "hash": "ad2bdc8ecc057115af97d19610ffacc2b4e99fae6737bb82f5d7fb13d2f2c186"
   }
  }
 },
 "nbformat": 4,
 "nbformat_minor": 2
}
