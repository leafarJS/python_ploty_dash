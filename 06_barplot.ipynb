{
 "cells": [
  {
   "cell_type": "code",
   "execution_count": null,
   "metadata": {},
   "outputs": [],
   "source": [
    "import plotly.offline as pyo\n",
    "import plotly.graph_objs as go\n",
    "import pandas as pd"
   ]
  },
  {
   "cell_type": "code",
   "execution_count": null,
   "metadata": {},
   "outputs": [],
   "source": [
    "#cargar datos\n",
    "df_oly = pd.read_excel(r'./database/Medallas_olímpicas.xlsx')"
   ]
  },
  {
   "cell_type": "code",
   "execution_count": null,
   "metadata": {},
   "outputs": [],
   "source": [
    "#analisis de la data\n",
    "df_oly.head()\n"
   ]
  },
  {
   "cell_type": "code",
   "execution_count": null,
   "metadata": {},
   "outputs": [],
   "source": [
    "#ordenar de manera descendente por columna total\n",
    "df_oly = df_oly.sort_values(by = \"Total\", ascending = False)"
   ]
  },
  {
   "cell_type": "code",
   "execution_count": null,
   "metadata": {},
   "outputs": [],
   "source": [
    "#definición del objeto tipo lista data con una unica traza basada en el total de medallas \n",
    "data_1 = go.Bar(\n",
    "  x = df_oly['País'], \n",
    "  y = df_oly['Oro'], \n",
    "  name = \"Oro\", \n",
    "  marker = {\"color\":\"#D4AF37\"}\n",
    ")\n",
    "data_2 = go.Bar(\n",
    "  x = df_oly['País'], \n",
    "  y = df_oly['Plata'], \n",
    "  name = \"Plata\", \n",
    "  marker = {\"color\":\"#C0C0C0\"}\n",
    ")\n",
    "data_3 = go.Bar(\n",
    "  x = df_oly['País'], \n",
    "  y = df_oly['Bronce'], \n",
    "  name = \"Bronce\", \n",
    "  marker = {\"color\":\"#CD7F32\"}\n",
    ")\n",
    "data = [data_1, data_2, data_3]"
   ]
  },
  {
   "cell_type": "code",
   "execution_count": null,
   "metadata": {},
   "outputs": [],
   "source": [
    "#definición del objeto layout diseño del grafico como titulo, nombre, ejes, etc.  \n",
    "layout = go.Layout(\n",
    "  title = \"Medallas Olimpicas por pais\", \n",
    "  xaxis = {\"title\": \"Pais\"},\n",
    "  yaxis = {\"title\": \"Total Medallas\"}, \n",
    "  barmode = \"stack\"\n",
    ")"
   ]
  },
  {
   "cell_type": "code",
   "execution_count": null,
   "metadata": {},
   "outputs": [],
   "source": [
    "#creación del objeto figura de plotly a partir de los objetos data y layout creados previamente\n",
    "fig = go.Figure(data = data, layout = layout)"
   ]
  },
  {
   "cell_type": "code",
   "execution_count": null,
   "metadata": {},
   "outputs": [],
   "source": [
    "#generación del plot a partir de la figura definida en un archivo html \n",
    "pyo.plot(fig, filename = \"bar_plot_1.html\")"
   ]
  }
 ],
 "metadata": {
  "kernelspec": {
   "display_name": "Python 3.9.12 ('base')",
   "language": "python",
   "name": "python3"
  },
  "language_info": {
   "codemirror_mode": {
    "name": "ipython",
    "version": 3
   },
   "file_extension": ".py",
   "mimetype": "text/x-python",
   "name": "python",
   "nbconvert_exporter": "python",
   "pygments_lexer": "ipython3",
   "version": "3.9.12"
  },
  "orig_nbformat": 4,
  "vscode": {
   "interpreter": {
    "hash": "ad2bdc8ecc057115af97d19610ffacc2b4e99fae6737bb82f5d7fb13d2f2c186"
   }
  }
 },
 "nbformat": 4,
 "nbformat_minor": 2
}
